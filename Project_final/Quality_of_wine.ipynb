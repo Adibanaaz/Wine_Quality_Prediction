{
 "cells": [
  {
   "cell_type": "code",
   "execution_count": 1,
   "metadata": {},
   "outputs": [],
   "source": [
    "#import the packages\n",
    "import pandas as pd \n",
    "from sklearn.model_selection import train_test_split \n",
    "from sklearn.linear_model import LinearRegression \n",
    "from sklearn import metrics \n",
    "import matplotlib.pyplot as plt \n",
    "import numpy as np \n",
    "import seaborn as sns"
   ]
  },
  {
   "cell_type": "code",
   "execution_count": 2,
   "metadata": {},
   "outputs": [
    {
     "data": {
      "text/html": [
       "<div>\n",
       "<style scoped>\n",
       "    .dataframe tbody tr th:only-of-type {\n",
       "        vertical-align: middle;\n",
       "    }\n",
       "\n",
       "    .dataframe tbody tr th {\n",
       "        vertical-align: top;\n",
       "    }\n",
       "\n",
       "    .dataframe thead th {\n",
       "        text-align: right;\n",
       "    }\n",
       "</style>\n",
       "<table border=\"1\" class=\"dataframe\">\n",
       "  <thead>\n",
       "    <tr style=\"text-align: right;\">\n",
       "      <th></th>\n",
       "      <th>fixed acidity</th>\n",
       "      <th>volatile acidity</th>\n",
       "      <th>citric acid</th>\n",
       "      <th>residual sugar</th>\n",
       "      <th>chlorides</th>\n",
       "      <th>free sulfur dioxide</th>\n",
       "      <th>total sulfur dioxide</th>\n",
       "      <th>density</th>\n",
       "      <th>pH</th>\n",
       "      <th>sulphates</th>\n",
       "      <th>alcohol</th>\n",
       "      <th>quality</th>\n",
       "    </tr>\n",
       "  </thead>\n",
       "  <tbody>\n",
       "    <tr>\n",
       "      <th>0</th>\n",
       "      <td>7.4</td>\n",
       "      <td>0.70</td>\n",
       "      <td>0.00</td>\n",
       "      <td>1.9</td>\n",
       "      <td>0.076</td>\n",
       "      <td>11.0</td>\n",
       "      <td>34.0</td>\n",
       "      <td>0.9978</td>\n",
       "      <td>3.51</td>\n",
       "      <td>0.56</td>\n",
       "      <td>9.4</td>\n",
       "      <td>5</td>\n",
       "    </tr>\n",
       "    <tr>\n",
       "      <th>1</th>\n",
       "      <td>7.8</td>\n",
       "      <td>0.88</td>\n",
       "      <td>0.00</td>\n",
       "      <td>2.6</td>\n",
       "      <td>0.098</td>\n",
       "      <td>25.0</td>\n",
       "      <td>67.0</td>\n",
       "      <td>0.9968</td>\n",
       "      <td>3.20</td>\n",
       "      <td>0.68</td>\n",
       "      <td>9.8</td>\n",
       "      <td>5</td>\n",
       "    </tr>\n",
       "    <tr>\n",
       "      <th>2</th>\n",
       "      <td>7.8</td>\n",
       "      <td>0.76</td>\n",
       "      <td>0.04</td>\n",
       "      <td>2.3</td>\n",
       "      <td>0.092</td>\n",
       "      <td>15.0</td>\n",
       "      <td>54.0</td>\n",
       "      <td>0.9970</td>\n",
       "      <td>3.26</td>\n",
       "      <td>0.65</td>\n",
       "      <td>9.8</td>\n",
       "      <td>5</td>\n",
       "    </tr>\n",
       "    <tr>\n",
       "      <th>3</th>\n",
       "      <td>11.2</td>\n",
       "      <td>0.28</td>\n",
       "      <td>0.56</td>\n",
       "      <td>1.9</td>\n",
       "      <td>0.075</td>\n",
       "      <td>17.0</td>\n",
       "      <td>60.0</td>\n",
       "      <td>0.9980</td>\n",
       "      <td>3.16</td>\n",
       "      <td>0.58</td>\n",
       "      <td>9.8</td>\n",
       "      <td>6</td>\n",
       "    </tr>\n",
       "    <tr>\n",
       "      <th>4</th>\n",
       "      <td>7.4</td>\n",
       "      <td>0.70</td>\n",
       "      <td>0.00</td>\n",
       "      <td>1.9</td>\n",
       "      <td>0.076</td>\n",
       "      <td>11.0</td>\n",
       "      <td>34.0</td>\n",
       "      <td>0.9978</td>\n",
       "      <td>3.51</td>\n",
       "      <td>0.56</td>\n",
       "      <td>9.4</td>\n",
       "      <td>5</td>\n",
       "    </tr>\n",
       "  </tbody>\n",
       "</table>\n",
       "</div>"
      ],
      "text/plain": [
       "   fixed acidity  volatile acidity  citric acid  residual sugar  chlorides  \\\n",
       "0            7.4              0.70         0.00             1.9      0.076   \n",
       "1            7.8              0.88         0.00             2.6      0.098   \n",
       "2            7.8              0.76         0.04             2.3      0.092   \n",
       "3           11.2              0.28         0.56             1.9      0.075   \n",
       "4            7.4              0.70         0.00             1.9      0.076   \n",
       "\n",
       "   free sulfur dioxide  total sulfur dioxide  density    pH  sulphates  \\\n",
       "0                 11.0                  34.0   0.9978  3.51       0.56   \n",
       "1                 25.0                  67.0   0.9968  3.20       0.68   \n",
       "2                 15.0                  54.0   0.9970  3.26       0.65   \n",
       "3                 17.0                  60.0   0.9980  3.16       0.58   \n",
       "4                 11.0                  34.0   0.9978  3.51       0.56   \n",
       "\n",
       "   alcohol  quality  \n",
       "0      9.4        5  \n",
       "1      9.8        5  \n",
       "2      9.8        5  \n",
       "3      9.8        6  \n",
       "4      9.4        5  "
      ]
     },
     "execution_count": 2,
     "metadata": {},
     "output_type": "execute_result"
    }
   ],
   "source": [
    "\n",
    "#reading the data\n",
    "dataset = pd.read_csv('winequality-red.csv')\n",
    "dataset.head()"
   ]
  },
  {
   "cell_type": "code",
   "execution_count": 3,
   "metadata": {},
   "outputs": [
    {
     "name": "stdout",
     "output_type": "stream",
     "text": [
      "Shape of our datasets of Red-Wine:(1599, 12)\n",
      "Column headers/names: ['fixed acidity', 'volatile acidity', 'citric acid', 'residual sugar', 'chlorides', 'free sulfur dioxide', 'total sulfur dioxide', 'density', 'pH', 'sulphates', 'alcohol', 'quality']\n"
     ]
    }
   ],
   "source": [
    "#shape of datasets\n",
    "print(\"Shape of our datasets of Red-Wine:{s}\".format(s = dataset.shape))\n",
    "print(\"Column headers/names: {s}\".format(s = list(dataset)))"
   ]
  },
  {
   "cell_type": "code",
   "execution_count": 4,
   "metadata": {},
   "outputs": [
    {
     "name": "stdout",
     "output_type": "stream",
     "text": [
      "<class 'pandas.core.frame.DataFrame'>\n",
      "RangeIndex: 1599 entries, 0 to 1598\n",
      "Data columns (total 12 columns):\n",
      " #   Column                Non-Null Count  Dtype  \n",
      "---  ------                --------------  -----  \n",
      " 0   fixed acidity         1599 non-null   float64\n",
      " 1   volatile acidity      1599 non-null   float64\n",
      " 2   citric acid           1599 non-null   float64\n",
      " 3   residual sugar        1599 non-null   float64\n",
      " 4   chlorides             1599 non-null   float64\n",
      " 5   free sulfur dioxide   1599 non-null   float64\n",
      " 6   total sulfur dioxide  1599 non-null   float64\n",
      " 7   density               1599 non-null   float64\n",
      " 8   pH                    1599 non-null   float64\n",
      " 9   sulphates             1599 non-null   float64\n",
      " 10  alcohol               1599 non-null   float64\n",
      " 11  quality               1599 non-null   int64  \n",
      "dtypes: float64(11), int64(1)\n",
      "memory usage: 150.0 KB\n"
     ]
    }
   ],
   "source": [
    "dataset.info()"
   ]
  },
  {
   "cell_type": "code",
   "execution_count": 5,
   "metadata": {},
   "outputs": [
    {
     "data": {
      "text/html": [
       "<div>\n",
       "<style scoped>\n",
       "    .dataframe tbody tr th:only-of-type {\n",
       "        vertical-align: middle;\n",
       "    }\n",
       "\n",
       "    .dataframe tbody tr th {\n",
       "        vertical-align: top;\n",
       "    }\n",
       "\n",
       "    .dataframe thead th {\n",
       "        text-align: right;\n",
       "    }\n",
       "</style>\n",
       "<table border=\"1\" class=\"dataframe\">\n",
       "  <thead>\n",
       "    <tr style=\"text-align: right;\">\n",
       "      <th></th>\n",
       "      <th>fixed acidity</th>\n",
       "      <th>volatile acidity</th>\n",
       "      <th>citric acid</th>\n",
       "      <th>residual sugar</th>\n",
       "      <th>chlorides</th>\n",
       "      <th>free sulfur dioxide</th>\n",
       "      <th>total sulfur dioxide</th>\n",
       "      <th>density</th>\n",
       "      <th>pH</th>\n",
       "      <th>sulphates</th>\n",
       "      <th>alcohol</th>\n",
       "      <th>quality</th>\n",
       "    </tr>\n",
       "  </thead>\n",
       "  <tbody>\n",
       "    <tr>\n",
       "      <th>count</th>\n",
       "      <td>1599.000000</td>\n",
       "      <td>1599.000000</td>\n",
       "      <td>1599.000000</td>\n",
       "      <td>1599.000000</td>\n",
       "      <td>1599.000000</td>\n",
       "      <td>1599.000000</td>\n",
       "      <td>1599.000000</td>\n",
       "      <td>1599.000000</td>\n",
       "      <td>1599.000000</td>\n",
       "      <td>1599.000000</td>\n",
       "      <td>1599.000000</td>\n",
       "      <td>1599.000000</td>\n",
       "    </tr>\n",
       "    <tr>\n",
       "      <th>mean</th>\n",
       "      <td>8.319637</td>\n",
       "      <td>0.527821</td>\n",
       "      <td>0.270976</td>\n",
       "      <td>2.538806</td>\n",
       "      <td>0.087467</td>\n",
       "      <td>15.874922</td>\n",
       "      <td>46.467792</td>\n",
       "      <td>0.996747</td>\n",
       "      <td>3.311113</td>\n",
       "      <td>0.658149</td>\n",
       "      <td>10.422983</td>\n",
       "      <td>5.636023</td>\n",
       "    </tr>\n",
       "    <tr>\n",
       "      <th>std</th>\n",
       "      <td>1.741096</td>\n",
       "      <td>0.179060</td>\n",
       "      <td>0.194801</td>\n",
       "      <td>1.409928</td>\n",
       "      <td>0.047065</td>\n",
       "      <td>10.460157</td>\n",
       "      <td>32.895324</td>\n",
       "      <td>0.001887</td>\n",
       "      <td>0.154386</td>\n",
       "      <td>0.169507</td>\n",
       "      <td>1.065668</td>\n",
       "      <td>0.807569</td>\n",
       "    </tr>\n",
       "    <tr>\n",
       "      <th>min</th>\n",
       "      <td>4.600000</td>\n",
       "      <td>0.120000</td>\n",
       "      <td>0.000000</td>\n",
       "      <td>0.900000</td>\n",
       "      <td>0.012000</td>\n",
       "      <td>1.000000</td>\n",
       "      <td>6.000000</td>\n",
       "      <td>0.990070</td>\n",
       "      <td>2.740000</td>\n",
       "      <td>0.330000</td>\n",
       "      <td>8.400000</td>\n",
       "      <td>3.000000</td>\n",
       "    </tr>\n",
       "    <tr>\n",
       "      <th>25%</th>\n",
       "      <td>7.100000</td>\n",
       "      <td>0.390000</td>\n",
       "      <td>0.090000</td>\n",
       "      <td>1.900000</td>\n",
       "      <td>0.070000</td>\n",
       "      <td>7.000000</td>\n",
       "      <td>22.000000</td>\n",
       "      <td>0.995600</td>\n",
       "      <td>3.210000</td>\n",
       "      <td>0.550000</td>\n",
       "      <td>9.500000</td>\n",
       "      <td>5.000000</td>\n",
       "    </tr>\n",
       "    <tr>\n",
       "      <th>50%</th>\n",
       "      <td>7.900000</td>\n",
       "      <td>0.520000</td>\n",
       "      <td>0.260000</td>\n",
       "      <td>2.200000</td>\n",
       "      <td>0.079000</td>\n",
       "      <td>14.000000</td>\n",
       "      <td>38.000000</td>\n",
       "      <td>0.996750</td>\n",
       "      <td>3.310000</td>\n",
       "      <td>0.620000</td>\n",
       "      <td>10.200000</td>\n",
       "      <td>6.000000</td>\n",
       "    </tr>\n",
       "    <tr>\n",
       "      <th>75%</th>\n",
       "      <td>9.200000</td>\n",
       "      <td>0.640000</td>\n",
       "      <td>0.420000</td>\n",
       "      <td>2.600000</td>\n",
       "      <td>0.090000</td>\n",
       "      <td>21.000000</td>\n",
       "      <td>62.000000</td>\n",
       "      <td>0.997835</td>\n",
       "      <td>3.400000</td>\n",
       "      <td>0.730000</td>\n",
       "      <td>11.100000</td>\n",
       "      <td>6.000000</td>\n",
       "    </tr>\n",
       "    <tr>\n",
       "      <th>max</th>\n",
       "      <td>15.900000</td>\n",
       "      <td>1.580000</td>\n",
       "      <td>1.000000</td>\n",
       "      <td>15.500000</td>\n",
       "      <td>0.611000</td>\n",
       "      <td>72.000000</td>\n",
       "      <td>289.000000</td>\n",
       "      <td>1.003690</td>\n",
       "      <td>4.010000</td>\n",
       "      <td>2.000000</td>\n",
       "      <td>14.900000</td>\n",
       "      <td>8.000000</td>\n",
       "    </tr>\n",
       "  </tbody>\n",
       "</table>\n",
       "</div>"
      ],
      "text/plain": [
       "       fixed acidity  volatile acidity  citric acid  residual sugar  \\\n",
       "count    1599.000000       1599.000000  1599.000000     1599.000000   \n",
       "mean        8.319637          0.527821     0.270976        2.538806   \n",
       "std         1.741096          0.179060     0.194801        1.409928   \n",
       "min         4.600000          0.120000     0.000000        0.900000   \n",
       "25%         7.100000          0.390000     0.090000        1.900000   \n",
       "50%         7.900000          0.520000     0.260000        2.200000   \n",
       "75%         9.200000          0.640000     0.420000        2.600000   \n",
       "max        15.900000          1.580000     1.000000       15.500000   \n",
       "\n",
       "         chlorides  free sulfur dioxide  total sulfur dioxide      density  \\\n",
       "count  1599.000000          1599.000000           1599.000000  1599.000000   \n",
       "mean      0.087467            15.874922             46.467792     0.996747   \n",
       "std       0.047065            10.460157             32.895324     0.001887   \n",
       "min       0.012000             1.000000              6.000000     0.990070   \n",
       "25%       0.070000             7.000000             22.000000     0.995600   \n",
       "50%       0.079000            14.000000             38.000000     0.996750   \n",
       "75%       0.090000            21.000000             62.000000     0.997835   \n",
       "max       0.611000            72.000000            289.000000     1.003690   \n",
       "\n",
       "                pH    sulphates      alcohol      quality  \n",
       "count  1599.000000  1599.000000  1599.000000  1599.000000  \n",
       "mean      3.311113     0.658149    10.422983     5.636023  \n",
       "std       0.154386     0.169507     1.065668     0.807569  \n",
       "min       2.740000     0.330000     8.400000     3.000000  \n",
       "25%       3.210000     0.550000     9.500000     5.000000  \n",
       "50%       3.310000     0.620000    10.200000     6.000000  \n",
       "75%       3.400000     0.730000    11.100000     6.000000  \n",
       "max       4.010000     2.000000    14.900000     8.000000  "
      ]
     },
     "execution_count": 5,
     "metadata": {},
     "output_type": "execute_result"
    }
   ],
   "source": [
    "dataset.describe()"
   ]
  },
  {
   "cell_type": "code",
   "execution_count": 6,
   "metadata": {},
   "outputs": [
    {
     "data": {
      "text/plain": [
       "array([5, 6, 7, 4, 8, 3], dtype=int64)"
      ]
     },
     "execution_count": 6,
     "metadata": {},
     "output_type": "execute_result"
    }
   ],
   "source": [
    "dataset['quality'].unique()"
   ]
  },
  {
   "cell_type": "code",
   "execution_count": 7,
   "metadata": {},
   "outputs": [
    {
     "data": {
      "text/plain": [
       "quality\n",
       "3     10\n",
       "4     53\n",
       "5    681\n",
       "6    638\n",
       "7    199\n",
       "8     18\n",
       "Name: count, dtype: int64"
      ]
     },
     "execution_count": 7,
     "metadata": {},
     "output_type": "execute_result"
    }
   ],
   "source": [
    "dataset.quality.value_counts().sort_index()"
   ]
  },
  {
   "cell_type": "code",
   "execution_count": 8,
   "metadata": {},
   "outputs": [
    {
     "data": {
      "text/plain": [
       "<Axes: xlabel='quality', ylabel='count'>"
      ]
     },
     "execution_count": 8,
     "metadata": {},
     "output_type": "execute_result"
    },
    {
     "data": {
      "image/png": "[encoded data removed]",
      "text/plain": [
       "<Figure size 640x480 with 1 Axes>"
      ]
     },
     "metadata": {},
     "output_type": "display_data"
    }
   ],
   "source": [
    "sns.countplot(x='quality', data=dataset)"
   ]
  },
  {
   "cell_type": "code",
   "execution_count": 9,
   "metadata": {},
   "outputs": [
    {
     "data": {
      "text/plain": [
       "count    1599.000000\n",
       "mean       10.422983\n",
       "std         1.065668\n",
       "min         8.400000\n",
       "25%         9.500000\n",
       "50%        10.200000\n",
       "75%        11.100000\n",
       "max        14.900000\n",
       "Name: alcohol, dtype: float64"
      ]
     },
     "execution_count": 9,
     "metadata": {},
     "output_type": "execute_result"
    }
   ],
   "source": [
    "dataset['alcohol'].describe()"
   ]
  },
  {
   "cell_type": "code",
   "execution_count": 10,
   "metadata": {},
   "outputs": [
    {
     "data": {
      "text/plain": [
       "count    1599.000000\n",
       "mean        0.658149\n",
       "std         0.169507\n",
       "min         0.330000\n",
       "25%         0.550000\n",
       "50%         0.620000\n",
       "75%         0.730000\n",
       "max         2.000000\n",
       "Name: sulphates, dtype: float64"
      ]
     },
     "execution_count": 10,
     "metadata": {},
     "output_type": "execute_result"
    }
   ],
   "source": [
    "dataset['sulphates'].describe()"
   ]
  },
  {
   "cell_type": "code",
   "execution_count": 11,
   "metadata": {},
   "outputs": [
    {
     "data": {
      "text/plain": [
       "count    1599.000000\n",
       "mean        0.270976\n",
       "std         0.194801\n",
       "min         0.000000\n",
       "25%         0.090000\n",
       "50%         0.260000\n",
       "75%         0.420000\n",
       "max         1.000000\n",
       "Name: citric acid, dtype: float64"
      ]
     },
     "execution_count": 11,
     "metadata": {},
     "output_type": "execute_result"
    }
   ],
   "source": [
    "\n",
    "dataset['citric acid'].describe()"
   ]
  },
  {
   "cell_type": "code",
   "execution_count": 12,
   "metadata": {},
   "outputs": [
    {
     "data": {
      "text/plain": [
       "count    1599.000000\n",
       "mean        8.319637\n",
       "std         1.741096\n",
       "min         4.600000\n",
       "25%         7.100000\n",
       "50%         7.900000\n",
       "75%         9.200000\n",
       "max        15.900000\n",
       "Name: fixed acidity, dtype: float64"
      ]
     },
     "execution_count": 12,
     "metadata": {},
     "output_type": "execute_result"
    }
   ],
   "source": [
    "dataset['fixed acidity'].describe()"
   ]
  },
  {
   "cell_type": "code",
   "execution_count": 13,
   "metadata": {},
   "outputs": [
    {
     "data": {
      "text/plain": [
       "count    1599.000000\n",
       "mean        2.538806\n",
       "std         1.409928\n",
       "min         0.900000\n",
       "25%         1.900000\n",
       "50%         2.200000\n",
       "75%         2.600000\n",
       "max        15.500000\n",
       "Name: residual sugar, dtype: float64"
      ]
     },
     "execution_count": 13,
     "metadata": {},
     "output_type": "execute_result"
    }
   ],
   "source": [
    "dataset['residual sugar'].describe()"
   ]
  },
  {
   "cell_type": "code",
   "execution_count": 14,
   "metadata": {},
   "outputs": [
    {
     "name": "stdout",
     "output_type": "stream",
     "text": [
      "fixed acidity            2.100000\n",
      "volatile acidity         0.250000\n",
      "citric acid              0.330000\n",
      "residual sugar           0.700000\n",
      "chlorides                0.020000\n",
      "free sulfur dioxide     14.000000\n",
      "total sulfur dioxide    40.000000\n",
      "density                  0.002235\n",
      "pH                       0.190000\n",
      "sulphates                0.180000\n",
      "alcohol                  1.600000\n",
      "quality                  1.000000\n",
      "dtype: float64\n"
     ]
    }
   ],
   "source": [
    "Q1 = dataset.quantile(0.25)\n",
    "Q3 = dataset.quantile(0.75)\n",
    "IQR = Q3 - Q1\n",
    "print(IQR)"
   ]
  },
  {
   "cell_type": "code",
   "execution_count": 15,
   "metadata": {},
   "outputs": [
    {
     "name": "stdout",
     "output_type": "stream",
     "text": [
      "      fixed acidity  volatile acidity  citric acid  residual sugar  chlorides  \\\n",
      "0             False             False        False           False      False   \n",
      "1             False             False        False           False      False   \n",
      "2             False             False        False           False      False   \n",
      "3             False             False        False           False      False   \n",
      "4             False             False        False           False      False   \n",
      "...             ...               ...          ...             ...        ...   \n",
      "1594          False             False        False           False      False   \n",
      "1595          False             False        False           False      False   \n",
      "1596          False             False        False           False      False   \n",
      "1597          False             False        False           False      False   \n",
      "1598          False             False        False           False      False   \n",
      "\n",
      "      free sulfur dioxide  total sulfur dioxide  density     pH  sulphates  \\\n",
      "0                   False                 False    False  False      False   \n",
      "1                   False                 False    False  False      False   \n",
      "2                   False                 False    False  False      False   \n",
      "3                   False                 False    False  False      False   \n",
      "4                   False                 False    False  False      False   \n",
      "...                   ...                   ...      ...    ...        ...   \n",
      "1594                False                 False    False  False      False   \n",
      "1595                False                 False    False  False      False   \n",
      "1596                False                 False    False  False      False   \n",
      "1597                False                 False    False  False      False   \n",
      "1598                False                 False    False  False      False   \n",
      "\n",
      "      alcohol  quality  \n",
      "0       False    False  \n",
      "1       False    False  \n",
      "2       False    False  \n",
      "3       False    False  \n",
      "4       False    False  \n",
      "...       ...      ...  \n",
      "1594    False    False  \n",
      "1595    False    False  \n",
      "1596    False    False  \n",
      "1597    False    False  \n",
      "1598    False    False  \n",
      "\n",
      "[1599 rows x 12 columns]\n"
     ]
    },
    {
     "ename": "TypeError",
     "evalue": "Cannot perform 'ror_' with a dtyped [bool] array and scalar of type [NoneType]",
     "output_type": "error",
     "traceback": [
      "\u001b[1;31m---------------------------------------------------------------------------\u001b[0m",
      "\u001b[1;31mTypeError\u001b[0m                                 Traceback (most recent call last)",
      "File \u001b[1;32mc:\\users\\skkat\\appdata\\local\\programs\\python\\python39\\lib\\site-packages\\pandas\\core\\ops\\array_ops.py:364\u001b[0m, in \u001b[0;36mna_logical_op\u001b[1;34m(x, y, op)\u001b[0m\n\u001b[0;32m    355\u001b[0m \u001b[38;5;28;01mtry\u001b[39;00m:\n\u001b[0;32m    356\u001b[0m     \u001b[38;5;66;03m# For exposition, write:\u001b[39;00m\n\u001b[0;32m    357\u001b[0m     \u001b[38;5;66;03m#  yarr = isinstance(y, np.ndarray)\u001b[39;00m\n\u001b[1;32m   (...)\u001b[0m\n\u001b[0;32m    362\u001b[0m     \u001b[38;5;66;03m# Then Cases where this goes through without raising include:\u001b[39;00m\n\u001b[0;32m    363\u001b[0m     \u001b[38;5;66;03m#  (xint or xbool) and (yint or bool)\u001b[39;00m\n\u001b[1;32m--> 364\u001b[0m     result \u001b[38;5;241m=\u001b[39m \u001b[43mop\u001b[49m\u001b[43m(\u001b[49m\u001b[43mx\u001b[49m\u001b[43m,\u001b[49m\u001b[43m \u001b[49m\u001b[43my\u001b[49m\u001b[43m)\u001b[49m\n\u001b[0;32m    365\u001b[0m \u001b[38;5;28;01mexcept\u001b[39;00m \u001b[38;5;167;01mTypeError\u001b[39;00m:\n",
      "File \u001b[1;32mc:\\users\\skkat\\appdata\\local\\programs\\python\\python39\\lib\\site-packages\\pandas\\core\\roperator.py:58\u001b[0m, in \u001b[0;36mror_\u001b[1;34m(left, right)\u001b[0m\n\u001b[0;32m     57\u001b[0m \u001b[38;5;28;01mdef\u001b[39;00m \u001b[38;5;21mror_\u001b[39m(left, right):\n\u001b[1;32m---> 58\u001b[0m     \u001b[38;5;28;01mreturn\u001b[39;00m \u001b[43moperator\u001b[49m\u001b[38;5;241;43m.\u001b[39;49m\u001b[43mor_\u001b[49m\u001b[43m(\u001b[49m\u001b[43mright\u001b[49m\u001b[43m,\u001b[49m\u001b[43m \u001b[49m\u001b[43mleft\u001b[49m\u001b[43m)\u001b[49m\n",
      "\u001b[1;31mTypeError\u001b[0m: unsupported operand type(s) for |: 'NoneType' and 'bool'",
      "\nDuring handling of the above exception, another exception occurred:\n",
      "\u001b[1;31mValueError\u001b[0m                                Traceback (most recent call last)",
      "File \u001b[1;32mc:\\users\\skkat\\appdata\\local\\programs\\python\\python39\\lib\\site-packages\\pandas\\core\\ops\\array_ops.py:378\u001b[0m, in \u001b[0;36mna_logical_op\u001b[1;34m(x, y, op)\u001b[0m\n\u001b[0;32m    377\u001b[0m \u001b[38;5;28;01mtry\u001b[39;00m:\n\u001b[1;32m--> 378\u001b[0m     result \u001b[38;5;241m=\u001b[39m \u001b[43mlibops\u001b[49m\u001b[38;5;241;43m.\u001b[39;49m\u001b[43mscalar_binop\u001b[49m\u001b[43m(\u001b[49m\u001b[43mx\u001b[49m\u001b[43m,\u001b[49m\u001b[43m \u001b[49m\u001b[43my\u001b[49m\u001b[43m,\u001b[49m\u001b[43m \u001b[49m\u001b[43mop\u001b[49m\u001b[43m)\u001b[49m\n\u001b[0;32m    379\u001b[0m \u001b[38;5;28;01mexcept\u001b[39;00m (\n\u001b[0;32m    380\u001b[0m     \u001b[38;5;167;01mTypeError\u001b[39;00m,\n\u001b[0;32m    381\u001b[0m     \u001b[38;5;167;01mValueError\u001b[39;00m,\n\u001b[1;32m   (...)\u001b[0m\n\u001b[0;32m    384\u001b[0m     \u001b[38;5;167;01mNotImplementedError\u001b[39;00m,\n\u001b[0;32m    385\u001b[0m ) \u001b[38;5;28;01mas\u001b[39;00m err:\n",
      "File \u001b[1;32mops.pyx:180\u001b[0m, in \u001b[0;36mpandas._libs.ops.scalar_binop\u001b[1;34m()\u001b[0m\n",
      "\u001b[1;31mValueError\u001b[0m: Buffer has wrong number of dimensions (expected 1, got 2)",
      "\nThe above exception was the direct cause of the following exception:\n",
      "\u001b[1;31mTypeError\u001b[0m                                 Traceback (most recent call last)",
      "Cell \u001b[1;32mIn[15], line 2\u001b[0m\n\u001b[0;32m      1\u001b[0m \u001b[38;5;66;03m#The data point where we have False that means these values are valid whereas True indicates presence of an outlier.\u001b[39;00m\n\u001b[1;32m----> 2\u001b[0m \u001b[38;5;28;43mprint\u001b[39;49m\u001b[43m(\u001b[49m\u001b[43mdataset\u001b[49m\u001b[43m \u001b[49m\u001b[38;5;241;43m<\u001b[39;49m\u001b[43m \u001b[49m\u001b[43m(\u001b[49m\u001b[43mQ1\u001b[49m\u001b[43m \u001b[49m\u001b[38;5;241;43m-\u001b[39;49m\u001b[43m \u001b[49m\u001b[38;5;241;43m1.5\u001b[39;49m\u001b[43m \u001b[49m\u001b[38;5;241;43m*\u001b[39;49m\u001b[43m \u001b[49m\u001b[43mIQR\u001b[49m\u001b[43m)\u001b[49m\u001b[43m)\u001b[49m\u001b[43m \u001b[49m\u001b[38;5;241;43m|\u001b[39;49m\u001b[43m(\u001b[49m\u001b[43mdataset\u001b[49m\u001b[43m \u001b[49m\u001b[38;5;241;43m>\u001b[39;49m\u001b[43m \u001b[49m\u001b[43m(\u001b[49m\u001b[43mQ3\u001b[49m\u001b[43m \u001b[49m\u001b[38;5;241;43m+\u001b[39;49m\u001b[43m \u001b[49m\u001b[38;5;241;43m1.5\u001b[39;49m\u001b[43m \u001b[49m\u001b[38;5;241;43m*\u001b[39;49m\u001b[43m \u001b[49m\u001b[43mIQR\u001b[49m\u001b[43m)\u001b[49m\u001b[43m)\u001b[49m\n",
      "File \u001b[1;32mc:\\users\\skkat\\appdata\\local\\programs\\python\\python39\\lib\\site-packages\\pandas\\core\\ops\\common.py:76\u001b[0m, in \u001b[0;36m_unpack_zerodim_and_defer.<locals>.new_method\u001b[1;34m(self, other)\u001b[0m\n\u001b[0;32m     72\u001b[0m             \u001b[38;5;28;01mreturn\u001b[39;00m \u001b[38;5;28mNotImplemented\u001b[39m\n\u001b[0;32m     74\u001b[0m other \u001b[38;5;241m=\u001b[39m item_from_zerodim(other)\n\u001b[1;32m---> 76\u001b[0m \u001b[38;5;28;01mreturn\u001b[39;00m \u001b[43mmethod\u001b[49m\u001b[43m(\u001b[49m\u001b[38;5;28;43mself\u001b[39;49m\u001b[43m,\u001b[49m\u001b[43m \u001b[49m\u001b[43mother\u001b[49m\u001b[43m)\u001b[49m\n",
      "File \u001b[1;32mc:\\users\\skkat\\appdata\\local\\programs\\python\\python39\\lib\\site-packages\\pandas\\core\\arraylike.py:82\u001b[0m, in \u001b[0;36mOpsMixin.__ror__\u001b[1;34m(self, other)\u001b[0m\n\u001b[0;32m     80\u001b[0m \u001b[38;5;129m@unpack_zerodim_and_defer\u001b[39m(\u001b[38;5;124m\"\u001b[39m\u001b[38;5;124m__ror__\u001b[39m\u001b[38;5;124m\"\u001b[39m)\n\u001b[0;32m     81\u001b[0m \u001b[38;5;28;01mdef\u001b[39;00m \u001b[38;5;21m__ror__\u001b[39m(\u001b[38;5;28mself\u001b[39m, other):\n\u001b[1;32m---> 82\u001b[0m     \u001b[38;5;28;01mreturn\u001b[39;00m \u001b[38;5;28;43mself\u001b[39;49m\u001b[38;5;241;43m.\u001b[39;49m\u001b[43m_logical_method\u001b[49m\u001b[43m(\u001b[49m\u001b[43mother\u001b[49m\u001b[43m,\u001b[49m\u001b[43m \u001b[49m\u001b[43mroperator\u001b[49m\u001b[38;5;241;43m.\u001b[39;49m\u001b[43mror_\u001b[49m\u001b[43m)\u001b[49m\n",
      "File \u001b[1;32mc:\\users\\skkat\\appdata\\local\\programs\\python\\python39\\lib\\site-packages\\pandas\\core\\frame.py:7647\u001b[0m, in \u001b[0;36mDataFrame._arith_method\u001b[1;34m(self, other, op)\u001b[0m\n\u001b[0;32m   7644\u001b[0m \u001b[38;5;28mself\u001b[39m, other \u001b[38;5;241m=\u001b[39m \u001b[38;5;28mself\u001b[39m\u001b[38;5;241m.\u001b[39m_align_for_op(other, axis, flex\u001b[38;5;241m=\u001b[39m\u001b[38;5;28;01mTrue\u001b[39;00m, level\u001b[38;5;241m=\u001b[39m\u001b[38;5;28;01mNone\u001b[39;00m)\n\u001b[0;32m   7646\u001b[0m \u001b[38;5;28;01mwith\u001b[39;00m np\u001b[38;5;241m.\u001b[39merrstate(\u001b[38;5;28mall\u001b[39m\u001b[38;5;241m=\u001b[39m\u001b[38;5;124m\"\u001b[39m\u001b[38;5;124mignore\u001b[39m\u001b[38;5;124m\"\u001b[39m):\n\u001b[1;32m-> 7647\u001b[0m     new_data \u001b[38;5;241m=\u001b[39m \u001b[38;5;28;43mself\u001b[39;49m\u001b[38;5;241;43m.\u001b[39;49m\u001b[43m_dispatch_frame_op\u001b[49m\u001b[43m(\u001b[49m\u001b[43mother\u001b[49m\u001b[43m,\u001b[49m\u001b[43m \u001b[49m\u001b[43mop\u001b[49m\u001b[43m,\u001b[49m\u001b[43m \u001b[49m\u001b[43maxis\u001b[49m\u001b[38;5;241;43m=\u001b[39;49m\u001b[43maxis\u001b[49m\u001b[43m)\u001b[49m\n\u001b[0;32m   7648\u001b[0m \u001b[38;5;28;01mreturn\u001b[39;00m \u001b[38;5;28mself\u001b[39m\u001b[38;5;241m.\u001b[39m_construct_result(new_data)\n",
      "File \u001b[1;32mc:\\users\\skkat\\appdata\\local\\programs\\python\\python39\\lib\\site-packages\\pandas\\core\\frame.py:7679\u001b[0m, in \u001b[0;36mDataFrame._dispatch_frame_op\u001b[1;34m(self, right, func, axis)\u001b[0m\n\u001b[0;32m   7676\u001b[0m right \u001b[38;5;241m=\u001b[39m lib\u001b[38;5;241m.\u001b[39mitem_from_zerodim(right)\n\u001b[0;32m   7677\u001b[0m \u001b[38;5;28;01mif\u001b[39;00m \u001b[38;5;129;01mnot\u001b[39;00m is_list_like(right):\n\u001b[0;32m   7678\u001b[0m     \u001b[38;5;66;03m# i.e. scalar, faster than checking np.ndim(right) == 0\u001b[39;00m\n\u001b[1;32m-> 7679\u001b[0m     bm \u001b[38;5;241m=\u001b[39m \u001b[38;5;28;43mself\u001b[39;49m\u001b[38;5;241;43m.\u001b[39;49m\u001b[43m_mgr\u001b[49m\u001b[38;5;241;43m.\u001b[39;49m\u001b[43mapply\u001b[49m\u001b[43m(\u001b[49m\u001b[43marray_op\u001b[49m\u001b[43m,\u001b[49m\u001b[43m \u001b[49m\u001b[43mright\u001b[49m\u001b[38;5;241;43m=\u001b[39;49m\u001b[43mright\u001b[49m\u001b[43m)\u001b[49m\n\u001b[0;32m   7680\u001b[0m     \u001b[38;5;28;01mreturn\u001b[39;00m \u001b[38;5;28mself\u001b[39m\u001b[38;5;241m.\u001b[39m_constructor_from_mgr(bm, axes\u001b[38;5;241m=\u001b[39mbm\u001b[38;5;241m.\u001b[39maxes)\n\u001b[0;32m   7682\u001b[0m \u001b[38;5;28;01melif\u001b[39;00m \u001b[38;5;28misinstance\u001b[39m(right, DataFrame):\n",
      "File \u001b[1;32mc:\\users\\skkat\\appdata\\local\\programs\\python\\python39\\lib\\site-packages\\pandas\\core\\internals\\managers.py:352\u001b[0m, in \u001b[0;36mBaseBlockManager.apply\u001b[1;34m(self, f, align_keys, **kwargs)\u001b[0m\n\u001b[0;32m    349\u001b[0m             kwargs[k] \u001b[38;5;241m=\u001b[39m obj[b\u001b[38;5;241m.\u001b[39mmgr_locs\u001b[38;5;241m.\u001b[39mindexer]\n\u001b[0;32m    351\u001b[0m \u001b[38;5;28;01mif\u001b[39;00m \u001b[38;5;28mcallable\u001b[39m(f):\n\u001b[1;32m--> 352\u001b[0m     applied \u001b[38;5;241m=\u001b[39m b\u001b[38;5;241m.\u001b[39mapply(f, \u001b[38;5;241m*\u001b[39m\u001b[38;5;241m*\u001b[39mkwargs)\n\u001b[0;32m    353\u001b[0m \u001b[38;5;28;01melse\u001b[39;00m:\n\u001b[0;32m    354\u001b[0m     applied \u001b[38;5;241m=\u001b[39m \u001b[38;5;28mgetattr\u001b[39m(b, f)(\u001b[38;5;241m*\u001b[39m\u001b[38;5;241m*\u001b[39mkwargs)\n",
      "File \u001b[1;32mc:\\users\\skkat\\appdata\\local\\programs\\python\\python39\\lib\\site-packages\\pandas\\core\\internals\\blocks.py:366\u001b[0m, in \u001b[0;36mBlock.apply\u001b[1;34m(self, func, **kwargs)\u001b[0m\n\u001b[0;32m    360\u001b[0m \u001b[38;5;129m@final\u001b[39m\n\u001b[0;32m    361\u001b[0m \u001b[38;5;28;01mdef\u001b[39;00m \u001b[38;5;21mapply\u001b[39m(\u001b[38;5;28mself\u001b[39m, func, \u001b[38;5;241m*\u001b[39m\u001b[38;5;241m*\u001b[39mkwargs) \u001b[38;5;241m-\u001b[39m\u001b[38;5;241m>\u001b[39m \u001b[38;5;28mlist\u001b[39m[Block]:\n\u001b[0;32m    362\u001b[0m \u001b[38;5;250m    \u001b[39m\u001b[38;5;124;03m\"\"\"\u001b[39;00m\n\u001b[0;32m    363\u001b[0m \u001b[38;5;124;03m    apply the function to my values; return a block if we are not\u001b[39;00m\n\u001b[0;32m    364\u001b[0m \u001b[38;5;124;03m    one\u001b[39;00m\n\u001b[0;32m    365\u001b[0m \u001b[38;5;124;03m    \"\"\"\u001b[39;00m\n\u001b[1;32m--> 366\u001b[0m     result \u001b[38;5;241m=\u001b[39m func(\u001b[38;5;28mself\u001b[39m\u001b[38;5;241m.\u001b[39mvalues, \u001b[38;5;241m*\u001b[39m\u001b[38;5;241m*\u001b[39mkwargs)\n\u001b[0;32m    368\u001b[0m     result \u001b[38;5;241m=\u001b[39m maybe_coerce_values(result)\n\u001b[0;32m    369\u001b[0m     \u001b[38;5;28;01mreturn\u001b[39;00m \u001b[38;5;28mself\u001b[39m\u001b[38;5;241m.\u001b[39m_split_op_result(result)\n",
      "File \u001b[1;32mc:\\users\\skkat\\appdata\\local\\programs\\python\\python39\\lib\\site-packages\\pandas\\core\\ops\\array_ops.py:456\u001b[0m, in \u001b[0;36mlogical_op\u001b[1;34m(left, right, op)\u001b[0m\n\u001b[0;32m    452\u001b[0m \u001b[38;5;28;01melse\u001b[39;00m:\n\u001b[0;32m    453\u001b[0m     \u001b[38;5;66;03m# i.e. scalar\u001b[39;00m\n\u001b[0;32m    454\u001b[0m     is_other_int_dtype \u001b[38;5;241m=\u001b[39m lib\u001b[38;5;241m.\u001b[39mis_integer(rvalues)\n\u001b[1;32m--> 456\u001b[0m res_values \u001b[38;5;241m=\u001b[39m \u001b[43mna_logical_op\u001b[49m\u001b[43m(\u001b[49m\u001b[43mlvalues\u001b[49m\u001b[43m,\u001b[49m\u001b[43m \u001b[49m\u001b[43mrvalues\u001b[49m\u001b[43m,\u001b[49m\u001b[43m \u001b[49m\u001b[43mop\u001b[49m\u001b[43m)\u001b[49m\n\u001b[0;32m    458\u001b[0m \u001b[38;5;66;03m# For int vs int `^`, `|`, `&` are bitwise operators and return\u001b[39;00m\n\u001b[0;32m    459\u001b[0m \u001b[38;5;66;03m#   integer dtypes.  Otherwise these are boolean ops\u001b[39;00m\n\u001b[0;32m    460\u001b[0m \u001b[38;5;28;01mif\u001b[39;00m \u001b[38;5;129;01mnot\u001b[39;00m (left\u001b[38;5;241m.\u001b[39mdtype\u001b[38;5;241m.\u001b[39mkind \u001b[38;5;129;01min\u001b[39;00m \u001b[38;5;124m\"\u001b[39m\u001b[38;5;124miu\u001b[39m\u001b[38;5;124m\"\u001b[39m \u001b[38;5;129;01mand\u001b[39;00m is_other_int_dtype):\n",
      "File \u001b[1;32mc:\\users\\skkat\\appdata\\local\\programs\\python\\python39\\lib\\site-packages\\pandas\\core\\ops\\array_ops.py:387\u001b[0m, in \u001b[0;36mna_logical_op\u001b[1;34m(x, y, op)\u001b[0m\n\u001b[0;32m    379\u001b[0m         \u001b[38;5;28;01mexcept\u001b[39;00m (\n\u001b[0;32m    380\u001b[0m             \u001b[38;5;167;01mTypeError\u001b[39;00m,\n\u001b[0;32m    381\u001b[0m             \u001b[38;5;167;01mValueError\u001b[39;00m,\n\u001b[1;32m   (...)\u001b[0m\n\u001b[0;32m    384\u001b[0m             \u001b[38;5;167;01mNotImplementedError\u001b[39;00m,\n\u001b[0;32m    385\u001b[0m         ) \u001b[38;5;28;01mas\u001b[39;00m err:\n\u001b[0;32m    386\u001b[0m             typ \u001b[38;5;241m=\u001b[39m \u001b[38;5;28mtype\u001b[39m(y)\u001b[38;5;241m.\u001b[39m\u001b[38;5;18m__name__\u001b[39m\n\u001b[1;32m--> 387\u001b[0m             \u001b[38;5;28;01mraise\u001b[39;00m \u001b[38;5;167;01mTypeError\u001b[39;00m(\n\u001b[0;32m    388\u001b[0m                 \u001b[38;5;124mf\u001b[39m\u001b[38;5;124m\"\u001b[39m\u001b[38;5;124mCannot perform \u001b[39m\u001b[38;5;124m'\u001b[39m\u001b[38;5;132;01m{\u001b[39;00mop\u001b[38;5;241m.\u001b[39m\u001b[38;5;18m__name__\u001b[39m\u001b[38;5;132;01m}\u001b[39;00m\u001b[38;5;124m'\u001b[39m\u001b[38;5;124m with a dtyped [\u001b[39m\u001b[38;5;132;01m{\u001b[39;00mx\u001b[38;5;241m.\u001b[39mdtype\u001b[38;5;132;01m}\u001b[39;00m\u001b[38;5;124m] array \u001b[39m\u001b[38;5;124m\"\u001b[39m\n\u001b[0;32m    389\u001b[0m                 \u001b[38;5;124mf\u001b[39m\u001b[38;5;124m\"\u001b[39m\u001b[38;5;124mand scalar of type [\u001b[39m\u001b[38;5;132;01m{\u001b[39;00mtyp\u001b[38;5;132;01m}\u001b[39;00m\u001b[38;5;124m]\u001b[39m\u001b[38;5;124m\"\u001b[39m\n\u001b[0;32m    390\u001b[0m             ) \u001b[38;5;28;01mfrom\u001b[39;00m \u001b[38;5;21;01merr\u001b[39;00m\n\u001b[0;32m    392\u001b[0m \u001b[38;5;28;01mreturn\u001b[39;00m result\u001b[38;5;241m.\u001b[39mreshape(x\u001b[38;5;241m.\u001b[39mshape)\n",
      "\u001b[1;31mTypeError\u001b[0m: Cannot perform 'ror_' with a dtyped [bool] array and scalar of type [NoneType]"
     ]
    }
   ],
   "source": [
    "#The data point where we have False that means these values are valid whereas True indicates presence of an outlier.\n",
    "print(dataset < (Q1 - 1.5 * IQR)) |(dataset > (Q3 + 1.5 * IQR))"
   ]
  },
  {
   "cell_type": "code",
   "execution_count": 18,
   "metadata": {},
   "outputs": [
    {
     "data": {
      "text/plain": [
       "(1179, 12)"
      ]
     },
     "execution_count": 18,
     "metadata": {},
     "output_type": "execute_result"
    }
   ],
   "source": [
    "dataset_out = dataset[~((dataset < (Q1 - 1.5 * IQR)) |(dataset > (Q3 + 1.5 * IQR))).any(axis=1)]\n",
    "\n",
    "dataset_out.shape"
   ]
  },
  {
   "cell_type": "code",
   "execution_count": 19,
   "metadata": {},
   "outputs": [
    {
     "data": {
      "text/html": [
       "<div>\n",
       "<style scoped>\n",
       "    .dataframe tbody tr th:only-of-type {\n",
       "        vertical-align: middle;\n",
       "    }\n",
       "\n",
       "    .dataframe tbody tr th {\n",
       "        vertical-align: top;\n",
       "    }\n",
       "\n",
       "    .dataframe thead th {\n",
       "        text-align: right;\n",
       "    }\n",
       "</style>\n",
       "<table border=\"1\" class=\"dataframe\">\n",
       "  <thead>\n",
       "    <tr style=\"text-align: right;\">\n",
       "      <th></th>\n",
       "      <th>fixed acidity</th>\n",
       "      <th>volatile acidity</th>\n",
       "      <th>citric acid</th>\n",
       "      <th>residual sugar</th>\n",
       "      <th>chlorides</th>\n",
       "      <th>free sulfur dioxide</th>\n",
       "      <th>total sulfur dioxide</th>\n",
       "      <th>density</th>\n",
       "      <th>pH</th>\n",
       "      <th>sulphates</th>\n",
       "      <th>alcohol</th>\n",
       "      <th>quality</th>\n",
       "    </tr>\n",
       "  </thead>\n",
       "  <tbody>\n",
       "    <tr>\n",
       "      <th>0</th>\n",
       "      <td>7.4</td>\n",
       "      <td>0.700</td>\n",
       "      <td>0.00</td>\n",
       "      <td>1.9</td>\n",
       "      <td>0.076</td>\n",
       "      <td>11.0</td>\n",
       "      <td>34.0</td>\n",
       "      <td>0.99780</td>\n",
       "      <td>3.51</td>\n",
       "      <td>0.56</td>\n",
       "      <td>9.4</td>\n",
       "      <td>5</td>\n",
       "    </tr>\n",
       "    <tr>\n",
       "      <th>1</th>\n",
       "      <td>7.8</td>\n",
       "      <td>0.880</td>\n",
       "      <td>0.00</td>\n",
       "      <td>2.6</td>\n",
       "      <td>0.098</td>\n",
       "      <td>25.0</td>\n",
       "      <td>67.0</td>\n",
       "      <td>0.99680</td>\n",
       "      <td>3.20</td>\n",
       "      <td>0.68</td>\n",
       "      <td>9.8</td>\n",
       "      <td>5</td>\n",
       "    </tr>\n",
       "    <tr>\n",
       "      <th>2</th>\n",
       "      <td>7.8</td>\n",
       "      <td>0.760</td>\n",
       "      <td>0.04</td>\n",
       "      <td>2.3</td>\n",
       "      <td>0.092</td>\n",
       "      <td>15.0</td>\n",
       "      <td>54.0</td>\n",
       "      <td>0.99700</td>\n",
       "      <td>3.26</td>\n",
       "      <td>0.65</td>\n",
       "      <td>9.8</td>\n",
       "      <td>5</td>\n",
       "    </tr>\n",
       "    <tr>\n",
       "      <th>3</th>\n",
       "      <td>11.2</td>\n",
       "      <td>0.280</td>\n",
       "      <td>0.56</td>\n",
       "      <td>1.9</td>\n",
       "      <td>0.075</td>\n",
       "      <td>17.0</td>\n",
       "      <td>60.0</td>\n",
       "      <td>0.99800</td>\n",
       "      <td>3.16</td>\n",
       "      <td>0.58</td>\n",
       "      <td>9.8</td>\n",
       "      <td>6</td>\n",
       "    </tr>\n",
       "    <tr>\n",
       "      <th>4</th>\n",
       "      <td>7.4</td>\n",
       "      <td>0.700</td>\n",
       "      <td>0.00</td>\n",
       "      <td>1.9</td>\n",
       "      <td>0.076</td>\n",
       "      <td>11.0</td>\n",
       "      <td>34.0</td>\n",
       "      <td>0.99780</td>\n",
       "      <td>3.51</td>\n",
       "      <td>0.56</td>\n",
       "      <td>9.4</td>\n",
       "      <td>5</td>\n",
       "    </tr>\n",
       "    <tr>\n",
       "      <th>...</th>\n",
       "      <td>...</td>\n",
       "      <td>...</td>\n",
       "      <td>...</td>\n",
       "      <td>...</td>\n",
       "      <td>...</td>\n",
       "      <td>...</td>\n",
       "      <td>...</td>\n",
       "      <td>...</td>\n",
       "      <td>...</td>\n",
       "      <td>...</td>\n",
       "      <td>...</td>\n",
       "      <td>...</td>\n",
       "    </tr>\n",
       "    <tr>\n",
       "      <th>1594</th>\n",
       "      <td>6.2</td>\n",
       "      <td>0.600</td>\n",
       "      <td>0.08</td>\n",
       "      <td>2.0</td>\n",
       "      <td>0.090</td>\n",
       "      <td>32.0</td>\n",
       "      <td>44.0</td>\n",
       "      <td>0.99490</td>\n",
       "      <td>3.45</td>\n",
       "      <td>0.58</td>\n",
       "      <td>10.5</td>\n",
       "      <td>5</td>\n",
       "    </tr>\n",
       "    <tr>\n",
       "      <th>1595</th>\n",
       "      <td>5.9</td>\n",
       "      <td>0.550</td>\n",
       "      <td>0.10</td>\n",
       "      <td>2.2</td>\n",
       "      <td>0.062</td>\n",
       "      <td>39.0</td>\n",
       "      <td>51.0</td>\n",
       "      <td>0.99512</td>\n",
       "      <td>3.52</td>\n",
       "      <td>0.76</td>\n",
       "      <td>11.2</td>\n",
       "      <td>6</td>\n",
       "    </tr>\n",
       "    <tr>\n",
       "      <th>1596</th>\n",
       "      <td>6.3</td>\n",
       "      <td>0.510</td>\n",
       "      <td>0.13</td>\n",
       "      <td>2.3</td>\n",
       "      <td>0.076</td>\n",
       "      <td>29.0</td>\n",
       "      <td>40.0</td>\n",
       "      <td>0.99574</td>\n",
       "      <td>3.42</td>\n",
       "      <td>0.75</td>\n",
       "      <td>11.0</td>\n",
       "      <td>6</td>\n",
       "    </tr>\n",
       "    <tr>\n",
       "      <th>1597</th>\n",
       "      <td>5.9</td>\n",
       "      <td>0.645</td>\n",
       "      <td>0.12</td>\n",
       "      <td>2.0</td>\n",
       "      <td>0.075</td>\n",
       "      <td>32.0</td>\n",
       "      <td>44.0</td>\n",
       "      <td>0.99547</td>\n",
       "      <td>3.57</td>\n",
       "      <td>0.71</td>\n",
       "      <td>10.2</td>\n",
       "      <td>5</td>\n",
       "    </tr>\n",
       "    <tr>\n",
       "      <th>1598</th>\n",
       "      <td>6.0</td>\n",
       "      <td>0.310</td>\n",
       "      <td>0.47</td>\n",
       "      <td>3.6</td>\n",
       "      <td>0.067</td>\n",
       "      <td>18.0</td>\n",
       "      <td>42.0</td>\n",
       "      <td>0.99549</td>\n",
       "      <td>3.39</td>\n",
       "      <td>0.66</td>\n",
       "      <td>11.0</td>\n",
       "      <td>6</td>\n",
       "    </tr>\n",
       "  </tbody>\n",
       "</table>\n",
       "<p>1179 rows × 12 columns</p>\n",
       "</div>"
      ],
      "text/plain": [
       "      fixed acidity  volatile acidity  citric acid  residual sugar  chlorides  \\\n",
       "0               7.4             0.700         0.00             1.9      0.076   \n",
       "1               7.8             0.880         0.00             2.6      0.098   \n",
       "2               7.8             0.760         0.04             2.3      0.092   \n",
       "3              11.2             0.280         0.56             1.9      0.075   \n",
       "4               7.4             0.700         0.00             1.9      0.076   \n",
       "...             ...               ...          ...             ...        ...   \n",
       "1594            6.2             0.600         0.08             2.0      0.090   \n",
       "1595            5.9             0.550         0.10             2.2      0.062   \n",
       "1596            6.3             0.510         0.13             2.3      0.076   \n",
       "1597            5.9             0.645         0.12             2.0      0.075   \n",
       "1598            6.0             0.310         0.47             3.6      0.067   \n",
       "\n",
       "      free sulfur dioxide  total sulfur dioxide  density    pH  sulphates  \\\n",
       "0                    11.0                  34.0  0.99780  3.51       0.56   \n",
       "1                    25.0                  67.0  0.99680  3.20       0.68   \n",
       "2                    15.0                  54.0  0.99700  3.26       0.65   \n",
       "3                    17.0                  60.0  0.99800  3.16       0.58   \n",
       "4                    11.0                  34.0  0.99780  3.51       0.56   \n",
       "...                   ...                   ...      ...   ...        ...   \n",
       "1594                 32.0                  44.0  0.99490  3.45       0.58   \n",
       "1595                 39.0                  51.0  0.99512  3.52       0.76   \n",
       "1596                 29.0                  40.0  0.99574  3.42       0.75   \n",
       "1597                 32.0                  44.0  0.99547  3.57       0.71   \n",
       "1598                 18.0                  42.0  0.99549  3.39       0.66   \n",
       "\n",
       "      alcohol  quality  \n",
       "0         9.4        5  \n",
       "1         9.8        5  \n",
       "2         9.8        5  \n",
       "3         9.8        6  \n",
       "4         9.4        5  \n",
       "...       ...      ...  \n",
       "1594     10.5        5  \n",
       "1595     11.2        6  \n",
       "1596     11.0        6  \n",
       "1597     10.2        5  \n",
       "1598     11.0        6  \n",
       "\n",
       "[1179 rows x 12 columns]"
      ]
     },
     "execution_count": 19,
     "metadata": {},
     "output_type": "execute_result"
    }
   ],
   "source": [
    "dataset_out"
   ]
  },
  {
   "cell_type": "code",
   "execution_count": 20,
   "metadata": {},
   "outputs": [
    {
     "name": "stdout",
     "output_type": "stream",
     "text": [
      "fixed acidity           0.113422\n",
      "volatile acidity       -0.346962\n",
      "citric acid             0.212133\n",
      "residual sugar          0.007934\n",
      "chlorides              -0.190869\n",
      "free sulfur dioxide    -0.003609\n",
      "total sulfur dioxide   -0.203374\n",
      "density                -0.215375\n",
      "pH                     -0.060288\n",
      "sulphates               0.413533\n",
      "alcohol                 0.492551\n",
      "Name: quality, dtype: float64\n"
     ]
    }
   ],
   "source": [
    "correlations = dataset_out.corr()['quality'].drop('quality')\n",
    "print(correlations)"
   ]
  },
  {
   "cell_type": "code",
   "execution_count": 21,
   "metadata": {},
   "outputs": [
    {
     "data": {
      "image/png": "[encoded data removed]",
      "text/plain": [
       "<Figure size 640x480 with 2 Axes>"
      ]
     },
     "metadata": {},
     "output_type": "display_data"
    }
   ],
   "source": [
    "sns.heatmap(dataset.corr())\n",
    "plt.show()"
   ]
  },
  {
   "cell_type": "code",
   "execution_count": 22,
   "metadata": {},
   "outputs": [
    {
     "data": {
      "text/plain": [
       "alcohol                 0.492551\n",
       "sulphates               0.413533\n",
       "citric acid             0.212133\n",
       "fixed acidity           0.113422\n",
       "residual sugar          0.007934\n",
       "free sulfur dioxide    -0.003609\n",
       "pH                     -0.060288\n",
       "chlorides              -0.190869\n",
       "total sulfur dioxide   -0.203374\n",
       "density                -0.215375\n",
       "volatile acidity       -0.346962\n",
       "Name: quality, dtype: float64"
      ]
     },
     "execution_count": 22,
     "metadata": {},
     "output_type": "execute_result"
    }
   ],
   "source": [
    "#impact of various factor on quality\n",
    "correlations.sort_values(ascending=False)"
   ]
  },
  {
   "cell_type": "code",
   "execution_count": 24,
   "metadata": {},
   "outputs": [],
   "source": [
    "def get_features(correlation_threshold):\n",
    "    abs_corrs = correlations.abs()\n",
    "    high_correlations = abs_corrs[abs_corrs > correlation_threshold].index.values.tolist()\n",
    "    return high_correlations"
   ]
  },
  {
   "cell_type": "code",
   "execution_count": 25,
   "metadata": {},
   "outputs": [
    {
     "name": "stdout",
     "output_type": "stream",
     "text": [
      "['fixed acidity', 'volatile acidity', 'citric acid', 'chlorides', 'total sulfur dioxide', 'density', 'pH', 'sulphates', 'alcohol']\n"
     ]
    }
   ],
   "source": [
    "# taking features with correlation more than 0.05 as input x and quality as target variable y\n",
    "features = get_features(0.05)\n",
    "print(features)\n",
    "x = dataset_out[features]\n",
    "y = dataset_out['quality']"
   ]
  },
  {
   "cell_type": "code",
   "execution_count": 26,
   "metadata": {},
   "outputs": [
    {
     "data": {
      "text/plain": [
       "[Text(0.5, 0, 'Quality '),\n",
       " Text(0, 0.5, 'Alcohol '),\n",
       " Text(0.5, 1.0, 'Alcohol %  in different samples')]"
      ]
     },
     "execution_count": 26,
     "metadata": {},
     "output_type": "execute_result"
    },
    {
     "data": {
      "image/png": "[encoded data removed]",
      "text/plain": [
       "<Figure size 640x480 with 1 Axes>"
      ]
     },
     "metadata": {},
     "output_type": "display_data"
    }
   ],
   "source": [
    "#to finding the no of outiers we have in our dataset with properties\n",
    "bx = sns.boxplot(x='quality', y='alcohol', data = dataset)\n",
    "bx.set(xlabel='Quality ', ylabel='Alcohol ', title='Alcohol %  in different samples')"
   ]
  },
  {
   "cell_type": "code",
   "execution_count": 27,
   "metadata": {},
   "outputs": [
    {
     "data": {
      "text/plain": [
       "[Text(0.5, 0, 'Quality '),\n",
       " Text(0, 0.5, 'Sulphates '),\n",
       " Text(0.5, 1.0, 'Sulphates %  in different samples')]"
      ]
     },
     "execution_count": 27,
     "metadata": {},
     "output_type": "execute_result"
    },
    {
     "data": {
      "image/png": "[encoded data removed]",
      "text/plain": [
       "<Figure size 640x480 with 1 Axes>"
      ]
     },
     "metadata": {},
     "output_type": "display_data"
    }
   ],
   "source": [
    "bx = sns.boxplot(x='quality', y='sulphates', data = dataset)\n",
    "bx.set(xlabel='Quality ', ylabel='Sulphates ', title='Sulphates %  in different samples')"
   ]
  },
  {
   "cell_type": "code",
   "execution_count": 28,
   "metadata": {},
   "outputs": [
    {
     "data": {
      "text/plain": [
       "[Text(0.5, 0, 'Quality '),\n",
       " Text(0, 0.5, 'Citric Acid '),\n",
       " Text(0.5, 1.0, 'Citric Acid %  in different samples')]"
      ]
     },
     "execution_count": 28,
     "metadata": {},
     "output_type": "execute_result"
    },
    {
     "data": {
      "image/png": "[encoded data removed]",
      "text/plain": [
       "<Figure size 640x480 with 1 Axes>"
      ]
     },
     "metadata": {},
     "output_type": "display_data"
    }
   ],
   "source": [
    "bx = sns.boxplot(x='quality', y='citric acid', data = dataset)\n",
    "bx.set(xlabel='Quality ', ylabel='Citric Acid ', title='Citric Acid %  in different samples')"
   ]
  },
  {
   "cell_type": "code",
   "execution_count": 29,
   "metadata": {},
   "outputs": [
    {
     "data": {
      "text/plain": [
       "[Text(0.5, 0, 'Quality'),\n",
       " Text(0, 0.5, 'Fixed Acidity'),\n",
       " Text(0.5, 1.0, 'Fixed Acidity % in different samples')]"
      ]
     },
     "execution_count": 29,
     "metadata": {},
     "output_type": "execute_result"
    },
    {
     "data": {
      "image/png": "[encoded data removed]",
      "text/plain": [
       "<Figure size 640x480 with 1 Axes>"
      ]
     },
     "metadata": {},
     "output_type": "display_data"
    }
   ],
   "source": [
    "bx = sns.boxplot(x='quality', y='fixed acidity', data = dataset)\n",
    "bx.set(xlabel='Quality', ylabel='Fixed Acidity', title='Fixed Acidity % in different samples')"
   ]
  },
  {
   "cell_type": "code",
   "execution_count": 30,
   "metadata": {},
   "outputs": [
    {
     "data": {
      "text/html": [
       "<div>\n",
       "<style scoped>\n",
       "    .dataframe tbody tr th:only-of-type {\n",
       "        vertical-align: middle;\n",
       "    }\n",
       "\n",
       "    .dataframe tbody tr th {\n",
       "        vertical-align: top;\n",
       "    }\n",
       "\n",
       "    .dataframe thead th {\n",
       "        text-align: right;\n",
       "    }\n",
       "</style>\n",
       "<table border=\"1\" class=\"dataframe\">\n",
       "  <thead>\n",
       "    <tr style=\"text-align: right;\">\n",
       "      <th></th>\n",
       "      <th>fixed acidity</th>\n",
       "      <th>volatile acidity</th>\n",
       "      <th>citric acid</th>\n",
       "      <th>chlorides</th>\n",
       "      <th>total sulfur dioxide</th>\n",
       "      <th>density</th>\n",
       "      <th>pH</th>\n",
       "      <th>sulphates</th>\n",
       "      <th>alcohol</th>\n",
       "    </tr>\n",
       "  </thead>\n",
       "  <tbody>\n",
       "    <tr>\n",
       "      <th>0</th>\n",
       "      <td>7.4</td>\n",
       "      <td>0.700</td>\n",
       "      <td>0.00</td>\n",
       "      <td>0.076</td>\n",
       "      <td>34.0</td>\n",
       "      <td>0.99780</td>\n",
       "      <td>3.51</td>\n",
       "      <td>0.56</td>\n",
       "      <td>9.4</td>\n",
       "    </tr>\n",
       "    <tr>\n",
       "      <th>1</th>\n",
       "      <td>7.8</td>\n",
       "      <td>0.880</td>\n",
       "      <td>0.00</td>\n",
       "      <td>0.098</td>\n",
       "      <td>67.0</td>\n",
       "      <td>0.99680</td>\n",
       "      <td>3.20</td>\n",
       "      <td>0.68</td>\n",
       "      <td>9.8</td>\n",
       "    </tr>\n",
       "    <tr>\n",
       "      <th>2</th>\n",
       "      <td>7.8</td>\n",
       "      <td>0.760</td>\n",
       "      <td>0.04</td>\n",
       "      <td>0.092</td>\n",
       "      <td>54.0</td>\n",
       "      <td>0.99700</td>\n",
       "      <td>3.26</td>\n",
       "      <td>0.65</td>\n",
       "      <td>9.8</td>\n",
       "    </tr>\n",
       "    <tr>\n",
       "      <th>3</th>\n",
       "      <td>11.2</td>\n",
       "      <td>0.280</td>\n",
       "      <td>0.56</td>\n",
       "      <td>0.075</td>\n",
       "      <td>60.0</td>\n",
       "      <td>0.99800</td>\n",
       "      <td>3.16</td>\n",
       "      <td>0.58</td>\n",
       "      <td>9.8</td>\n",
       "    </tr>\n",
       "    <tr>\n",
       "      <th>4</th>\n",
       "      <td>7.4</td>\n",
       "      <td>0.700</td>\n",
       "      <td>0.00</td>\n",
       "      <td>0.076</td>\n",
       "      <td>34.0</td>\n",
       "      <td>0.99780</td>\n",
       "      <td>3.51</td>\n",
       "      <td>0.56</td>\n",
       "      <td>9.4</td>\n",
       "    </tr>\n",
       "    <tr>\n",
       "      <th>...</th>\n",
       "      <td>...</td>\n",
       "      <td>...</td>\n",
       "      <td>...</td>\n",
       "      <td>...</td>\n",
       "      <td>...</td>\n",
       "      <td>...</td>\n",
       "      <td>...</td>\n",
       "      <td>...</td>\n",
       "      <td>...</td>\n",
       "    </tr>\n",
       "    <tr>\n",
       "      <th>1594</th>\n",
       "      <td>6.2</td>\n",
       "      <td>0.600</td>\n",
       "      <td>0.08</td>\n",
       "      <td>0.090</td>\n",
       "      <td>44.0</td>\n",
       "      <td>0.99490</td>\n",
       "      <td>3.45</td>\n",
       "      <td>0.58</td>\n",
       "      <td>10.5</td>\n",
       "    </tr>\n",
       "    <tr>\n",
       "      <th>1595</th>\n",
       "      <td>5.9</td>\n",
       "      <td>0.550</td>\n",
       "      <td>0.10</td>\n",
       "      <td>0.062</td>\n",
       "      <td>51.0</td>\n",
       "      <td>0.99512</td>\n",
       "      <td>3.52</td>\n",
       "      <td>0.76</td>\n",
       "      <td>11.2</td>\n",
       "    </tr>\n",
       "    <tr>\n",
       "      <th>1596</th>\n",
       "      <td>6.3</td>\n",
       "      <td>0.510</td>\n",
       "      <td>0.13</td>\n",
       "      <td>0.076</td>\n",
       "      <td>40.0</td>\n",
       "      <td>0.99574</td>\n",
       "      <td>3.42</td>\n",
       "      <td>0.75</td>\n",
       "      <td>11.0</td>\n",
       "    </tr>\n",
       "    <tr>\n",
       "      <th>1597</th>\n",
       "      <td>5.9</td>\n",
       "      <td>0.645</td>\n",
       "      <td>0.12</td>\n",
       "      <td>0.075</td>\n",
       "      <td>44.0</td>\n",
       "      <td>0.99547</td>\n",
       "      <td>3.57</td>\n",
       "      <td>0.71</td>\n",
       "      <td>10.2</td>\n",
       "    </tr>\n",
       "    <tr>\n",
       "      <th>1598</th>\n",
       "      <td>6.0</td>\n",
       "      <td>0.310</td>\n",
       "      <td>0.47</td>\n",
       "      <td>0.067</td>\n",
       "      <td>42.0</td>\n",
       "      <td>0.99549</td>\n",
       "      <td>3.39</td>\n",
       "      <td>0.66</td>\n",
       "      <td>11.0</td>\n",
       "    </tr>\n",
       "  </tbody>\n",
       "</table>\n",
       "<p>1179 rows × 9 columns</p>\n",
       "</div>"
      ],
      "text/plain": [
       "      fixed acidity  volatile acidity  citric acid  chlorides  \\\n",
       "0               7.4             0.700         0.00      0.076   \n",
       "1               7.8             0.880         0.00      0.098   \n",
       "2               7.8             0.760         0.04      0.092   \n",
       "3              11.2             0.280         0.56      0.075   \n",
       "4               7.4             0.700         0.00      0.076   \n",
       "...             ...               ...          ...        ...   \n",
       "1594            6.2             0.600         0.08      0.090   \n",
       "1595            5.9             0.550         0.10      0.062   \n",
       "1596            6.3             0.510         0.13      0.076   \n",
       "1597            5.9             0.645         0.12      0.075   \n",
       "1598            6.0             0.310         0.47      0.067   \n",
       "\n",
       "      total sulfur dioxide  density    pH  sulphates  alcohol  \n",
       "0                     34.0  0.99780  3.51       0.56      9.4  \n",
       "1                     67.0  0.99680  3.20       0.68      9.8  \n",
       "2                     54.0  0.99700  3.26       0.65      9.8  \n",
       "3                     60.0  0.99800  3.16       0.58      9.8  \n",
       "4                     34.0  0.99780  3.51       0.56      9.4  \n",
       "...                    ...      ...   ...        ...      ...  \n",
       "1594                  44.0  0.99490  3.45       0.58     10.5  \n",
       "1595                  51.0  0.99512  3.52       0.76     11.2  \n",
       "1596                  40.0  0.99574  3.42       0.75     11.0  \n",
       "1597                  44.0  0.99547  3.57       0.71     10.2  \n",
       "1598                  42.0  0.99549  3.39       0.66     11.0  \n",
       "\n",
       "[1179 rows x 9 columns]"
      ]
     },
     "execution_count": 30,
     "metadata": {},
     "output_type": "execute_result"
    }
   ],
   "source": [
    "x"
   ]
  },
  {
   "cell_type": "code",
   "execution_count": 31,
   "metadata": {},
   "outputs": [
    {
     "data": {
      "text/plain": [
       "0       5\n",
       "1       5\n",
       "2       5\n",
       "3       6\n",
       "4       5\n",
       "       ..\n",
       "1594    5\n",
       "1595    6\n",
       "1596    6\n",
       "1597    5\n",
       "1598    6\n",
       "Name: quality, Length: 1179, dtype: int64"
      ]
     },
     "execution_count": 31,
     "metadata": {},
     "output_type": "execute_result"
    }
   ],
   "source": [
    "y"
   ]
  },
  {
   "cell_type": "code",
   "execution_count": 32,
   "metadata": {},
   "outputs": [],
   "source": [
    "x_train,x_test,y_train,y_test=train_test_split(x,y,test_size=0.30,random_state=3)"
   ]
  },
  {
   "cell_type": "code",
   "execution_count": 33,
   "metadata": {},
   "outputs": [
    {
     "data": {
      "text/plain": [
       "(354,)"
      ]
     },
     "execution_count": 33,
     "metadata": {},
     "output_type": "execute_result"
    }
   ],
   "source": [
    "# x_train.shape\n",
    "# x_test.shape\n",
    "# y_train.shape\n",
    "y_test.shape"
   ]
  },
  {
   "cell_type": "code",
   "execution_count": 34,
   "metadata": {},
   "outputs": [
    {
     "data": {
      "text/html": [
       "<style>#sk-container-id-1 {color: black;}#sk-container-id-1 pre{padding: 0;}#sk-container-id-1 div.sk-toggleable {background-color: white;}#sk-container-id-1 label.sk-toggleable__label {cursor: pointer;display: block;width: 100%;margin-bottom: 0;padding: 0.3em;box-sizing: border-box;text-align: center;}#sk-container-id-1 label.sk-toggleable__label-arrow:before {content: \"▸\";float: left;margin-right: 0.25em;color: #696969;}#sk-container-id-1 label.sk-toggleable__label-arrow:hover:before {color: black;}#sk-container-id-1 div.sk-estimator:hover label.sk-toggleable__label-arrow:before {color: black;}#sk-container-id-1 div.sk-toggleable__content {max-height: 0;max-width: 0;overflow: hidden;text-align: left;background-color: #f0f8ff;}#sk-container-id-1 div.sk-toggleable__content pre {margin: 0.2em;color: black;border-radius: 0.25em;background-color: #f0f8ff;}#sk-container-id-1 input.sk-toggleable__control:checked~div.sk-toggleable__content {max-height: 200px;max-width: 100%;overflow: auto;}#sk-container-id-1 input.sk-toggleable__control:checked~label.sk-toggleable__label-arrow:before {content: \"▾\";}#sk-container-id-1 div.sk-estimator input.sk-toggleable__control:checked~label.sk-toggleable__label {background-color: #d4ebff;}#sk-container-id-1 div.sk-label input.sk-toggleable__control:checked~label.sk-toggleable__label {background-color: #d4ebff;}#sk-container-id-1 input.sk-hidden--visually {border: 0;clip: rect(1px 1px 1px 1px);clip: rect(1px, 1px, 1px, 1px);height: 1px;margin: -1px;overflow: hidden;padding: 0;position: absolute;width: 1px;}#sk-container-id-1 div.sk-estimator {font-family: monospace;background-color: #f0f8ff;border: 1px dotted black;border-radius: 0.25em;box-sizing: border-box;margin-bottom: 0.5em;}#sk-container-id-1 div.sk-estimator:hover {background-color: #d4ebff;}#sk-container-id-1 div.sk-parallel-item::after {content: \"\";width: 100%;border-bottom: 1px solid gray;flex-grow: 1;}#sk-container-id-1 div.sk-label:hover label.sk-toggleable__label {background-color: #d4ebff;}#sk-container-id-1 div.sk-serial::before {content: \"\";position: absolute;border-left: 1px solid gray;box-sizing: border-box;top: 0;bottom: 0;left: 50%;z-index: 0;}#sk-container-id-1 div.sk-serial {display: flex;flex-direction: column;align-items: center;background-color: white;padding-right: 0.2em;padding-left: 0.2em;position: relative;}#sk-container-id-1 div.sk-item {position: relative;z-index: 1;}#sk-container-id-1 div.sk-parallel {display: flex;align-items: stretch;justify-content: center;background-color: white;position: relative;}#sk-container-id-1 div.sk-item::before, #sk-container-id-1 div.sk-parallel-item::before {content: \"\";position: absolute;border-left: 1px solid gray;box-sizing: border-box;top: 0;bottom: 0;left: 50%;z-index: -1;}#sk-container-id-1 div.sk-parallel-item {display: flex;flex-direction: column;z-index: 1;position: relative;background-color: white;}#sk-container-id-1 div.sk-parallel-item:first-child::after {align-self: flex-end;width: 50%;}#sk-container-id-1 div.sk-parallel-item:last-child::after {align-self: flex-start;width: 50%;}#sk-container-id-1 div.sk-parallel-item:only-child::after {width: 0;}#sk-container-id-1 div.sk-dashed-wrapped {border: 1px dashed gray;margin: 0 0.4em 0.5em 0.4em;box-sizing: border-box;padding-bottom: 0.4em;background-color: white;}#sk-container-id-1 div.sk-label label {font-family: monospace;font-weight: bold;display: inline-block;line-height: 1.2em;}#sk-container-id-1 div.sk-label-container {text-align: center;}#sk-container-id-1 div.sk-container {/* jupyter's `normalize.less` sets `[hidden] { display: none; }` but bootstrap.min.css set `[hidden] { display: none !important; }` so we also need the `!important` here to be able to override the default hidden behavior on the sphinx rendered scikit-learn.org. See: https://github.com/scikit-learn/scikit-learn/issues/21755 */display: inline-block !important;position: relative;}#sk-container-id-1 div.sk-text-repr-fallback {display: none;}</style><div id=\"sk-container-id-1\" class=\"sk-top-container\"><div class=\"sk-text-repr-fallback\"><pre>LinearRegression()</pre><b>In a Jupyter environment, please rerun this cell to show the HTML representation or trust the notebook. <br />On GitHub, the HTML representation is unable to render, please try loading this page with nbviewer.org.</b></div><div class=\"sk-container\" hidden><div class=\"sk-item\"><div class=\"sk-estimator sk-toggleable\"><input class=\"sk-toggleable__control sk-hidden--visually\" id=\"sk-estimator-id-1\" type=\"checkbox\" checked><label for=\"sk-estimator-id-1\" class=\"sk-toggleable__label sk-toggleable__label-arrow\">LinearRegression</label><div class=\"sk-toggleable__content\"><pre>LinearRegression()</pre></div></div></div></div></div>"
      ],
      "text/plain": [
       "LinearRegression()"
      ]
     },
     "execution_count": 34,
     "metadata": {},
     "output_type": "execute_result"
    }
   ],
   "source": [
    "# fitting linear regression to training data\n",
    "regressor = LinearRegression()\n",
    "regressor.fit(x_train,y_train)"
   ]
  },
  {
   "cell_type": "code",
   "execution_count": 35,
   "metadata": {},
   "outputs": [
    {
     "data": {
      "text/plain": [
       "27.670573863574447"
      ]
     },
     "execution_count": 35,
     "metadata": {},
     "output_type": "execute_result"
    }
   ],
   "source": [
    "#To retrieve the intercept\n",
    "regressor.intercept_"
   ]
  },
  {
   "cell_type": "code",
   "execution_count": 36,
   "metadata": {},
   "outputs": [
    {
     "data": {
      "text/plain": [
       "array([ 4.22974781e-02, -8.16827531e-01, -4.00865196e-01, -2.68428276e+00,\n",
       "       -1.47339257e-03, -2.37486638e+01, -4.72842021e-01,  1.71236742e+00,\n",
       "        2.47526682e-01])"
      ]
     },
     "execution_count": 36,
     "metadata": {},
     "output_type": "execute_result"
    }
   ],
   "source": [
    "# this gives the coefficients of the 10 features selected above. \n",
    "regressor.coef_"
   ]
  },
  {
   "cell_type": "code",
   "execution_count": 39,
   "metadata": {},
   "outputs": [
    {
     "data": {
      "text/plain": [
       "array([6.14356299, 5.11710037, 5.21197237, 5.13828062, 5.97949972,\n",
       "       5.66562893, 5.4777587 , 5.75868703, 5.98907913, 5.40401462,\n",
       "       5.52303708, 5.21113234, 5.38046811, 5.75877598, 5.35007708,\n",
       "       5.08567146, 5.70418446, 6.15016457, 4.98217495, 6.37902248,\n",
       "       5.34435775, 5.58388766, 5.56975986, 6.5429133 , 5.95905468,\n",
       "       5.36649122, 5.24598625, 5.58550515, 5.18791293, 5.25072061,\n",
       "       5.10187748, 5.00442024, 5.69182774, 5.89415555, 5.21543362,\n",
       "       5.72691046, 5.08042222, 5.16537087, 6.26665775, 5.11379649,\n",
       "       4.84031354, 5.32908031, 6.59578316, 5.9574155 , 5.17612261,\n",
       "       5.52155991, 5.08413929, 6.1392644 , 5.48990749, 5.93825753,\n",
       "       6.23616917, 5.92388793, 5.7786765 , 6.0650639 , 5.79356716,\n",
       "       5.78930793, 6.0279377 , 4.86136512, 6.06957539, 5.1960625 ,\n",
       "       5.82623979, 5.21010511, 5.18855806, 5.17190517, 5.06530766,\n",
       "       5.2522647 , 5.64833165, 5.66231692, 5.54553416, 5.89096209,\n",
       "       5.29556643, 5.10200981, 5.02472467, 5.47288678, 5.45596721,\n",
       "       6.29709987, 5.76623284, 5.26529395, 5.64531976, 5.61024562,\n",
       "       5.93475858, 5.87726527, 5.91779798, 5.45342902, 6.52865604,\n",
       "       4.95957019, 5.76606249, 5.04086682, 5.79175917, 5.0713891 ,\n",
       "       5.11750536, 5.14636666, 5.58806512, 5.42896941, 5.56712642,\n",
       "       5.26786057, 5.54824935, 5.35547929, 5.48867129, 6.67937957,\n",
       "       5.11929099, 5.25452186, 5.97331675, 5.34835175, 5.75786221,\n",
       "       6.57023719, 5.11135638, 4.85168046, 6.62477517, 5.84110503,\n",
       "       5.50501381, 5.88727634, 5.14497862, 5.17733968, 5.08484283,\n",
       "       5.08635281, 5.9692369 , 5.29083696, 5.09508369, 5.67401074,\n",
       "       6.40096505, 6.10346848, 5.62412871, 5.19386327, 5.47973414,\n",
       "       5.25484004, 5.87184723, 6.32418664, 5.05657359, 5.24349487,\n",
       "       5.75432785, 5.20658621, 5.21382617, 5.63262815, 5.11175973,\n",
       "       5.85106806, 6.36252192, 5.76965878, 6.25652222, 6.43141336,\n",
       "       5.43116886, 4.87759322, 6.36455205, 6.42596261, 5.79386584,\n",
       "       6.46263677, 5.52294733, 5.38956387, 5.26894763, 5.36828967,\n",
       "       5.83485167, 5.85106806, 5.27632016, 4.98770517, 5.64833165,\n",
       "       5.63034795, 4.96505104, 5.22651761, 5.4866219 , 5.35003757,\n",
       "       5.20469878, 5.37799171, 6.19367539, 5.47642517, 5.13831066,\n",
       "       6.00186379, 6.23616917, 6.70136287, 5.41516857, 5.40210588,\n",
       "       6.13216558, 6.15119584, 5.74417315, 5.35003757, 5.22809651,\n",
       "       5.97318723, 6.06371654, 5.75637628, 6.32565944, 5.10572699,\n",
       "       5.53633118, 6.11770013, 6.08654781, 5.12215759, 5.4417218 ,\n",
       "       5.28702935, 5.37484802, 6.14154578, 5.64235694, 6.61560997,\n",
       "       6.0845468 , 6.12392735, 6.61791813, 5.07216272, 6.2763328 ,\n",
       "       5.25261696, 5.67348859, 5.33389457, 5.66803845, 5.2542072 ,\n",
       "       5.22103848, 5.10185561, 6.58336248, 6.00337023, 4.73611877,\n",
       "       5.41892536, 5.19438474, 5.5361315 , 6.61464724, 6.16655987,\n",
       "       5.28202995, 5.51803832, 5.52878706, 5.20312374, 6.4805223 ,\n",
       "       6.0375956 , 5.50240994, 6.358134  , 5.90465036, 5.59472565,\n",
       "       5.91047573, 5.63023966, 5.69182792, 5.47973414, 5.28964037,\n",
       "       5.00524991, 5.85826245, 5.83964559, 6.99471711, 5.85668358,\n",
       "       5.8178622 , 5.67881173, 5.40914929, 5.4636373 , 5.16160824,\n",
       "       5.49257674, 5.38717325, 4.97712918, 5.94734835, 6.38768994,\n",
       "       5.10962883, 5.6815043 , 5.0898051 , 5.28343532, 5.93058044,\n",
       "       6.34149676, 5.20053806, 6.36686322, 5.34835175, 6.28892597,\n",
       "       5.16578482, 5.4739367 , 6.14846664, 5.3357823 , 5.60782924,\n",
       "       5.51998071, 6.29478902, 6.21579076, 5.3836608 , 5.06530766,\n",
       "       4.93798751, 5.76778291, 6.35569382, 5.60833855, 5.70814391,\n",
       "       5.95049113, 5.21420541, 6.35755617, 5.46626441, 5.4983204 ,\n",
       "       6.31695069, 5.21712714, 6.27029354, 6.23393628, 5.20212611,\n",
       "       6.1226685 , 6.49292084, 5.67902012, 5.87769112, 5.42506762,\n",
       "       5.21325066, 6.17018736, 5.10982046, 5.63897961, 5.54928196,\n",
       "       5.33726489, 5.28715373, 5.37799933, 6.20989483, 5.16330814,\n",
       "       5.42522982, 5.36237889, 5.31619663, 5.28343532, 6.11430617,\n",
       "       5.56391908, 5.22767774, 5.77487956, 5.89946641, 5.38271641,\n",
       "       5.14760866, 6.19367539, 6.31176668, 5.69086489, 5.55181173,\n",
       "       5.08484283, 5.50205863, 6.17947609, 6.28863692, 6.06370295,\n",
       "       6.17448365, 5.53968411, 5.73517659, 5.07025062, 5.68497167,\n",
       "       5.12616623, 5.06199399, 5.06443751, 5.83105026, 5.64335863,\n",
       "       5.61435381, 5.25344223, 5.22698363, 6.16840388, 5.82323254,\n",
       "       5.1530659 , 5.47642007, 5.64833165, 5.10010504, 5.19050897,\n",
       "       5.00741797, 5.4833106 , 6.37278265, 5.73491817, 5.20701661,\n",
       "       5.34005313, 5.98663183, 5.21591709, 5.2360382 , 5.39786163,\n",
       "       5.59242386, 5.27875772, 5.51655596, 6.21213546, 5.79392454,\n",
       "       5.36180005, 5.37799933, 5.87018648, 5.74720292, 5.05619882,\n",
       "       5.84239127, 6.00601001, 5.57626927, 5.43832471, 5.55351847,\n",
       "       5.54824935, 5.33389457, 5.48243741, 5.08567146, 6.12386543,\n",
       "       5.85356241, 5.95905468, 5.84113443, 5.93264284, 5.58806512,\n",
       "       5.36807316, 5.93357861, 5.24875752, 4.79121036, 5.38232592,\n",
       "       5.39183885, 5.10010504, 5.38432223, 6.13321915, 5.87726527,\n",
       "       5.31944153, 5.32808335, 5.79423479, 5.68223955, 5.55488694,\n",
       "       5.85035157, 5.01891748, 5.89096209, 5.31876857, 5.95682114,\n",
       "       5.32429301, 5.80738993, 4.99648469, 5.61447916, 5.54568166,\n",
       "       5.61447916, 6.22352434, 5.90599305, 5.14064204, 5.40709228,\n",
       "       5.73196717, 5.47921991, 5.35874545, 5.9531978 , 6.49658897,\n",
       "       5.1753284 , 5.48099716, 5.38045557, 5.07203759, 6.01262684,\n",
       "       5.38404606, 5.29313746, 6.4692656 , 5.27875772, 5.02915868,\n",
       "       5.96552111, 5.0742265 , 5.25484004, 5.68663293, 5.51455117,\n",
       "       5.30997225, 5.66670316, 5.54876961, 6.01361209, 5.80018753,\n",
       "       5.78039685, 6.4438997 , 5.09169965, 6.16375985, 5.50532364,\n",
       "       6.5429133 , 5.33876095, 5.35547929, 5.74485665, 5.1544907 ,\n",
       "       5.9574155 , 5.78147867, 6.38983754, 5.72478184, 5.10498286,\n",
       "       5.16353731, 5.68469777, 6.00186379, 5.1753284 , 6.2892719 ,\n",
       "       5.36733726, 6.59818371, 5.52513157, 5.34347675, 5.31790065,\n",
       "       5.30970531, 5.36241495, 6.77082101, 6.31465891, 5.09232024,\n",
       "       6.06318756, 5.3887421 , 5.62825469, 6.29175215, 5.51992784,\n",
       "       5.54632989, 5.35003757, 5.61419775, 6.51896277, 5.46651255,\n",
       "       4.99046559, 5.86429771, 5.53204251, 5.33233153, 5.61576799,\n",
       "       6.63668959, 4.80311529, 5.00746645, 5.22262826, 5.0643945 ,\n",
       "       5.66126467, 5.37329335, 5.24060886, 5.52883759, 5.56574156,\n",
       "       5.49044561, 5.08848897, 6.358134  , 5.36180005, 4.98770517,\n",
       "       5.28253745, 5.32332623, 6.1189597 , 6.01742829, 5.61090676,\n",
       "       5.91047573, 5.50932925, 5.24383613, 6.11545523, 5.33201991,\n",
       "       5.39734012, 5.76212774, 5.21536836, 6.17709158, 5.29556643,\n",
       "       5.42314813, 5.68745448, 5.19500312, 4.91788591, 5.04807576,\n",
       "       5.24103176, 6.23454428, 5.20778505, 5.15817478, 5.83159408,\n",
       "       5.54875406, 5.7717214 , 5.56127674, 5.26383708, 5.67629763,\n",
       "       5.96574265, 6.01496265, 6.10944616, 5.52872278, 5.55829919,\n",
       "       5.24186   , 5.57535376, 5.48292549, 5.43513102, 5.64249502,\n",
       "       5.40312472, 5.66803845, 5.09687576, 5.51113928, 5.07746641,\n",
       "       5.59960105, 5.42760538, 5.12757282, 5.94612886, 5.20701661,\n",
       "       5.49749499, 6.12018624, 6.29969406, 5.82607691, 5.71404447,\n",
       "       5.36221821, 5.77513361, 5.74091452, 5.06443751, 5.51201639,\n",
       "       5.63162622, 6.25503967, 5.83608884, 5.6788526 , 5.41259585,\n",
       "       5.17918982, 5.51998071, 6.31465891, 5.58806512, 5.36807316,\n",
       "       5.2510137 , 5.68387818, 5.55263137, 5.22503608, 6.37735533,\n",
       "       5.94612886, 5.40463862, 5.62580641, 5.31035025, 5.94786716,\n",
       "       5.97057828, 5.22651761, 5.09484816, 6.19687096, 5.2441662 ,\n",
       "       5.4636373 , 5.57317833, 5.31245746, 5.17286367, 6.48145397,\n",
       "       5.20394763, 5.11598801, 5.51238937, 5.42163523, 5.83609592,\n",
       "       5.99534315, 5.59780874, 5.68987251, 6.08672726, 5.78978599,\n",
       "       5.65391841, 5.10932242, 6.05737443, 4.96281801, 6.20160777,\n",
       "       6.29082967, 5.21536836, 6.54035797, 4.91930072, 5.47407662,\n",
       "       6.04894188, 4.99046559, 5.73360942, 6.50494897, 5.24016209,\n",
       "       5.10819397, 5.07599035, 5.39024836, 5.3259214 , 5.38956387,\n",
       "       5.74529965, 5.88733308, 5.93264284, 5.64620131, 6.28892597,\n",
       "       5.46889585, 5.41432398, 5.34889122, 5.28652404, 5.19878315,\n",
       "       6.52865604, 5.26483738, 5.71188375, 5.18791293, 5.26873771,\n",
       "       4.94720189, 5.87828479, 5.55870882, 5.95905468, 6.07592757,\n",
       "       6.08282623, 5.7479816 , 5.23377085, 6.4260368 , 5.3726876 ,\n",
       "       5.32348097, 5.89605989, 5.71045507, 5.75868703, 5.99987354,\n",
       "       5.60084461, 6.16584155, 5.82623979, 5.57096759, 5.96979791,\n",
       "       6.23213198, 5.48079835, 5.39933726, 5.24038113, 6.02020889,\n",
       "       5.40181151, 6.43793377, 5.54718417, 5.39609995, 5.30468227,\n",
       "       4.89618128, 6.03955837, 5.59753018, 6.32499029, 5.79325823,\n",
       "       6.55245691, 5.20394763, 5.38714961, 6.16672701, 5.84947038,\n",
       "       5.95018895, 5.35773801, 5.33881128, 5.00959739, 5.10426467,\n",
       "       5.23358064, 5.13576252, 5.9856602 , 6.28819041, 5.54208796,\n",
       "       5.42354799, 5.22503608, 5.83511656, 5.01816475, 5.44169559,\n",
       "       5.83964559, 6.01665749, 5.37757769, 6.23092025, 5.67995695,\n",
       "       5.33851379, 5.22626326, 5.3811269 , 6.4438997 , 5.77676811,\n",
       "       6.24556313, 5.48101184, 6.58281737, 5.41852314, 5.64833165,\n",
       "       5.43517104, 5.36820924, 6.15738428, 5.33599895, 5.34555293,\n",
       "       5.16353731, 5.21037668, 6.08672726, 5.25758419, 5.52607744,\n",
       "       6.23393628, 5.71404447, 5.47958467, 5.33881128, 5.33546385,\n",
       "       6.23092025, 5.1307716 , 5.10010504, 4.98975961, 5.8239256 ,\n",
       "       5.34562884, 5.22124421, 5.61792591, 5.79142874, 5.35672401,\n",
       "       6.29709987, 5.09677959, 5.45852516, 5.34343479, 5.22942389,\n",
       "       5.01072409, 6.08941296, 5.59562414, 5.13797238, 5.58806512,\n",
       "       6.54494842, 5.92415545, 5.18855806, 5.89415555, 6.01742829,\n",
       "       6.10944616, 5.63448139, 5.27630308, 6.26157643, 5.27651711,\n",
       "       5.99084808, 5.19246854, 5.10637993, 6.62842192, 5.43198135,\n",
       "       5.45690165, 5.53162965, 4.93277323, 5.73101634, 5.45534567,\n",
       "       5.59780874, 5.45923718, 5.73477893, 5.31749376, 5.36148063,\n",
       "       5.24499078, 5.30712677, 5.68387818, 5.63443962, 5.87828479,\n",
       "       5.8076616 , 5.98966   , 4.92053611, 5.60833855, 5.83125641,\n",
       "       5.81044747, 6.59578316, 5.8254983 , 5.74485665, 5.75182574,\n",
       "       5.95601157, 5.86000764, 6.27151694, 6.11202357, 6.40096505,\n",
       "       5.79386584, 5.50006685, 5.35707099, 6.17947609, 5.20706627,\n",
       "       5.48691639, 5.95843108, 6.43873484, 4.9252127 , 6.04131712,\n",
       "       6.31920486, 5.13365707, 5.75262868, 6.00889349, 5.31424249,\n",
       "       4.90958199, 5.79392454, 6.36207987, 5.07494275, 6.46601747,\n",
       "       5.10376248, 5.22214785, 5.43460576, 5.55829919, 5.32331122,\n",
       "       4.99941366, 5.33232039, 5.92910997, 5.85465348, 6.67075119,\n",
       "       5.77487956, 5.84013657, 6.0565104 , 5.53926717, 6.1240427 ,\n",
       "       5.18855806, 6.01422097, 4.84031354, 5.24984111, 5.85826245,\n",
       "       5.48432811, 6.13605468, 5.63751858, 5.45015855, 5.24499078,\n",
       "       5.43116886, 5.49749499, 5.19438474, 6.13216558, 5.4881879 ,\n",
       "       5.45929077, 5.55263137, 5.56301924, 6.16584155, 6.45722465,\n",
       "       5.41303093, 5.85856255, 5.30084571, 5.4561555 , 6.28124608])"
      ]
     },
     "execution_count": 39,
     "metadata": {},
     "output_type": "execute_result"
    }
   ],
   "source": [
    "train_pred = regressor.predict(x_train)\n",
    "train_pred\n"
   ]
  },
  {
   "cell_type": "code",
   "execution_count": 40,
   "metadata": {},
   "outputs": [
    {
     "data": {
      "text/plain": [
       "array([5.31808602, 5.58846727, 5.83179258, 5.23562426, 6.36492755,\n",
       "       5.75166188, 5.61511554, 6.51307801, 6.033911  , 5.66126467,\n",
       "       5.15680921, 5.48432811, 5.53204251, 5.17612261, 5.98484046,\n",
       "       5.76958525, 6.09867422, 5.24902132, 5.45163284, 5.31035025,\n",
       "       5.09350311, 5.87828479, 6.40866401, 5.412199  , 5.96442862,\n",
       "       5.64014045, 5.51992784, 5.13588457, 6.28333602, 5.24519459,\n",
       "       5.0320614 , 5.27962193, 5.59753018, 5.48395895, 5.58964467,\n",
       "       6.0845468 , 5.19985585, 6.19604141, 5.34136276, 5.46949893,\n",
       "       5.52658067, 5.96992765, 5.69237733, 6.52259415, 5.39271847,\n",
       "       5.25392748, 5.99084808, 5.47407662, 5.49640697, 5.43513813,\n",
       "       6.32835806, 6.16672701, 6.20060859, 5.78978599, 5.70708754,\n",
       "       5.27350261, 5.36347142, 5.35513893, 6.26073939, 5.39379095,\n",
       "       5.13365707, 5.39539395, 5.31604688, 5.55738131, 5.35711922,\n",
       "       5.41823198, 5.04290802, 5.63751858, 5.05701887, 5.37699259,\n",
       "       5.4916961 , 6.49050987, 5.67902012, 5.58946844, 5.624972  ,\n",
       "       5.61792591, 5.86986021, 5.21037668, 5.78468929, 5.26398956,\n",
       "       5.72691046, 5.40092383, 6.69197151, 5.64531976, 5.56034568,\n",
       "       5.43467889, 5.55686222, 6.0233058 , 6.43578849, 5.52513157,\n",
       "       5.67902012, 4.64898744, 6.14662984, 6.51674285, 5.97318723,\n",
       "       5.49719429, 5.46490347, 6.16584155, 5.94581464, 5.07746641,\n",
       "       5.2441662 , 5.78930793, 5.75304305, 5.10426467, 5.1827166 ,\n",
       "       5.31511321, 5.99987354, 5.68526126, 5.07037239, 4.94121606,\n",
       "       6.52865604, 5.74004727, 6.28794889, 5.43117363, 5.71550177,\n",
       "       5.81784698, 4.9303826 , 5.24038113, 5.09211785, 5.14563991,\n",
       "       5.26449292, 6.57023719, 6.70915507, 5.41197844, 6.34009483,\n",
       "       6.4260368 , 6.30187789, 5.71188375, 5.91280815, 5.82027154,\n",
       "       5.27651711, 5.74529965, 5.84539052, 5.22809651, 5.66670316,\n",
       "       5.5902705 , 5.01881644, 6.21672901, 5.47214183, 5.47596665,\n",
       "       5.94786716, 6.63668959, 6.27596776, 5.91709308, 5.1588646 ,\n",
       "       5.47042012, 6.45247034, 5.0713891 , 6.0862025 , 6.03998607,\n",
       "       5.25484004, 5.23470007, 5.55305246, 5.53467428, 5.04086682,\n",
       "       5.16716583, 5.48101184, 6.22269596, 5.50728207, 5.10962883,\n",
       "       5.58846727, 6.21149416, 6.11221593, 4.94675827, 5.84251347,\n",
       "       5.64450235, 5.4419686 , 5.08727946, 6.01457484, 5.92755667,\n",
       "       5.16288998, 5.88359672, 5.37380208, 5.05286101, 5.32431777,\n",
       "       5.6439566 , 5.46490347, 6.56429012, 5.74004727, 6.24090367,\n",
       "       5.74724044, 4.92431392, 5.53386144, 5.20778505, 4.86136512,\n",
       "       5.43460576, 6.30967672, 5.31790065, 5.25163527, 6.05613027,\n",
       "       5.84035633, 5.08784791, 6.15870704, 6.12754243, 5.52607036,\n",
       "       4.97187315, 5.25359412, 6.70790937, 6.28794889, 5.13236485,\n",
       "       5.32725711, 6.28448589, 5.45923718, 5.73101634, 5.69440787,\n",
       "       5.65949152, 5.84565418, 5.01329309, 5.23624174, 6.23691057,\n",
       "       5.55686222, 5.04799289, 5.29971201, 5.79794396, 5.30597556,\n",
       "       5.40898341, 6.10600355, 5.77233753, 5.93825753, 5.10830136,\n",
       "       5.2400021 , 5.35766108, 6.04499105, 5.76822909, 5.76958525,\n",
       "       5.99354945, 5.61024562, 5.06244794, 5.47042012, 4.93392193,\n",
       "       5.28715373, 5.22670922, 5.53684889, 5.53208489, 5.95021487,\n",
       "       5.40558751, 5.19161171, 5.47596665, 5.11794805, 5.0981402 ,\n",
       "       5.21451607, 5.70435419, 5.6116368 , 4.99467008, 6.46094847,\n",
       "       6.65968339, 5.36928711, 6.16584155, 5.38024253, 5.38068717,\n",
       "       6.09599831, 5.31294223, 5.43759048, 5.611229  , 6.29147929,\n",
       "       5.41823198, 6.02194676, 5.37832235, 5.80309593, 5.47680605,\n",
       "       5.38908021, 5.24902132, 5.04068696, 5.69516629, 5.86000764,\n",
       "       5.40120967, 5.3834551 , 6.23387007, 6.0375956 , 6.67075119,\n",
       "       5.10200981, 5.42506762, 5.80924931, 5.70588308, 6.05499602,\n",
       "       4.97975135, 5.05000333, 4.95080592, 5.55137988, 5.60201573,\n",
       "       5.51449882, 6.32041445, 4.98861147, 5.82834176, 5.37670742,\n",
       "       5.20026968, 6.53073594, 4.84246122, 5.27651711, 5.10819397,\n",
       "       5.92311671, 5.0143682 , 5.58802138, 6.20016963, 5.50501381,\n",
       "       4.89930303, 5.18962732, 5.55263282, 5.58964467, 6.17709158,\n",
       "       5.55700084, 5.39046152, 6.52219068, 5.67196235, 5.05000333,\n",
       "       5.08079148, 5.5943058 , 6.0929811 , 5.83125641, 5.11413388,\n",
       "       5.39621839, 5.35003757, 5.53339833, 5.17331786, 6.1812361 ,\n",
       "       6.66364432, 6.08288344, 5.76263575, 6.46721371, 6.16370399,\n",
       "       5.30301361, 5.80309593, 5.38956387, 5.31619663, 5.56898153,\n",
       "       5.13831066, 5.45929077, 6.36179741, 5.78350828, 4.8024992 ,\n",
       "       4.93392193, 6.15635513, 5.63443962, 5.78846641, 5.38404606,\n",
       "       5.24038113, 5.72478184, 5.03161613, 6.06088742, 5.70624392,\n",
       "       6.02392175, 6.31342769, 6.19084804, 5.18021277, 5.09496384,\n",
       "       5.3259214 , 6.26077414, 5.39835093, 6.09093032, 5.27630308,\n",
       "       5.08727946, 5.58886863, 6.12677789, 6.33604641])"
      ]
     },
     "execution_count": 40,
     "metadata": {},
     "output_type": "execute_result"
    }
   ],
   "source": [
    "test_pred = regressor.predict(x_test)\n",
    "test_pred"
   ]
  },
  {
   "cell_type": "code",
   "execution_count": 41,
   "metadata": {},
   "outputs": [
    {
     "data": {
      "text/plain": [
       "0.5716073011879286"
      ]
     },
     "execution_count": 41,
     "metadata": {},
     "output_type": "execute_result"
    }
   ],
   "source": [
    "train_rmse = metrics.mean_squared_error(train_pred, y_train) ** 0.5\n",
    "train_rmse"
   ]
  },
  {
   "cell_type": "code",
   "execution_count": 42,
   "metadata": {},
   "outputs": [
    {
     "data": {
      "text/plain": [
       "0.5670861234989517"
      ]
     },
     "execution_count": 42,
     "metadata": {},
     "output_type": "execute_result"
    }
   ],
   "source": [
    "\n",
    "test_rmse = metrics.mean_squared_error(test_pred, y_test) ** 0.5\n",
    "test_rmse"
   ]
  },
  {
   "cell_type": "code",
   "execution_count": 43,
   "metadata": {},
   "outputs": [
    {
     "data": {
      "text/plain": [
       "array([5., 6., 6., 5., 6., 6., 6., 7., 6., 6., 5., 5., 6., 5., 6., 6., 6.,\n",
       "       5., 5., 5., 5., 6., 6., 5., 6., 6., 6., 5., 6., 5., 5., 5., 6., 5.,\n",
       "       6., 6., 5., 6., 5., 5., 6., 6., 6., 7., 5., 5., 6., 5., 5., 5., 6.,\n",
       "       6., 6., 6., 6., 5., 5., 5., 6., 5., 5., 5., 5., 6., 5., 5., 5., 6.,\n",
       "       5., 5., 5., 6., 6., 6., 6., 6., 6., 5., 6., 5., 6., 5., 7., 6., 6.,\n",
       "       5., 6., 6., 6., 6., 6., 5., 6., 7., 6., 5., 5., 6., 6., 5., 5., 6.,\n",
       "       6., 5., 5., 5., 6., 6., 5., 5., 7., 6., 6., 5., 6., 6., 5., 5., 5.,\n",
       "       5., 5., 7., 7., 5., 6., 6., 6., 6., 6., 6., 5., 6., 6., 5., 6., 6.,\n",
       "       5., 6., 5., 5., 6., 7., 6., 6., 5., 5., 6., 5., 6., 6., 5., 5., 6.,\n",
       "       6., 5., 5., 5., 6., 6., 5., 6., 6., 6., 5., 6., 6., 5., 5., 6., 6.,\n",
       "       5., 6., 5., 5., 5., 6., 5., 7., 6., 6., 6., 5., 6., 5., 5., 5., 6.,\n",
       "       5., 5., 6., 6., 5., 6., 6., 6., 5., 5., 7., 6., 5., 5., 6., 5., 6.,\n",
       "       6., 6., 6., 5., 5., 6., 6., 5., 5., 6., 5., 5., 6., 6., 6., 5., 5.,\n",
       "       5., 6., 6., 6., 6., 6., 5., 5., 5., 5., 5., 6., 6., 6., 5., 5., 5.,\n",
       "       5., 5., 5., 6., 6., 5., 6., 7., 5., 6., 5., 5., 6., 5., 5., 6., 6.,\n",
       "       5., 6., 5., 6., 5., 5., 5., 5., 6., 6., 5., 5., 6., 6., 7., 5., 5.,\n",
       "       6., 6., 6., 5., 5., 5., 6., 6., 6., 6., 5., 6., 5., 5., 7., 5., 5.,\n",
       "       5., 6., 5., 6., 6., 6., 5., 5., 6., 6., 6., 6., 5., 7., 6., 5., 5.,\n",
       "       6., 6., 6., 5., 5., 5., 6., 5., 6., 7., 6., 6., 6., 6., 5., 6., 5.,\n",
       "       5., 6., 5., 5., 6., 6., 5., 5., 6., 6., 6., 5., 5., 6., 5., 6., 6.,\n",
       "       6., 6., 6., 5., 5., 5., 6., 5., 6., 5., 5., 6., 6., 6.])"
      ]
     },
     "execution_count": 43,
     "metadata": {},
     "output_type": "execute_result"
    }
   ],
   "source": [
    "# rounding off the predicted values for test set\n",
    "predicted_data = np.round_(test_pred)\n",
    "predicted_data"
   ]
  },
  {
   "cell_type": "code",
   "execution_count": 44,
   "metadata": {},
   "outputs": [
    {
     "name": "stdout",
     "output_type": "stream",
     "text": [
      "Mean Absolute Error: 0.45667750590532946\n",
      "Mean Squared Error: 0.32158667146506836\n",
      "Root Mean Squared Error: 0.5670861234989517\n"
     ]
    }
   ],
   "source": [
    "print('Mean Absolute Error:', metrics.mean_absolute_error(y_test, test_pred))\n",
    "print('Mean Squared Error:', metrics.mean_squared_error(y_test, test_pred))\n",
    "rmse = np.sqrt(metrics.mean_squared_error(y_test, test_pred))\n",
    "print('Root Mean Squared Error:',rmse)"
   ]
  },
  {
   "cell_type": "code",
   "execution_count": 45,
   "metadata": {},
   "outputs": [
    {
     "data": {
      "text/plain": [
       "0.4070484025407709"
      ]
     },
     "execution_count": 45,
     "metadata": {},
     "output_type": "execute_result"
    }
   ],
   "source": [
    "from sklearn.metrics import r2_score\n",
    "r2_score(y_test,test_pred) "
   ]
  },
  {
   "cell_type": "code",
   "execution_count": 46,
   "metadata": {},
   "outputs": [
    {
     "data": {
      "text/html": [
       "<div>\n",
       "<style scoped>\n",
       "    .dataframe tbody tr th:only-of-type {\n",
       "        vertical-align: middle;\n",
       "    }\n",
       "\n",
       "    .dataframe tbody tr th {\n",
       "        vertical-align: top;\n",
       "    }\n",
       "\n",
       "    .dataframe thead th {\n",
       "        text-align: right;\n",
       "    }\n",
       "</style>\n",
       "<table border=\"1\" class=\"dataframe\">\n",
       "  <thead>\n",
       "    <tr style=\"text-align: right;\">\n",
       "      <th></th>\n",
       "      <th>Coeffecient</th>\n",
       "    </tr>\n",
       "  </thead>\n",
       "  <tbody>\n",
       "    <tr>\n",
       "      <th>fixed acidity</th>\n",
       "      <td>0.042297</td>\n",
       "    </tr>\n",
       "    <tr>\n",
       "      <th>volatile acidity</th>\n",
       "      <td>-0.816828</td>\n",
       "    </tr>\n",
       "    <tr>\n",
       "      <th>citric acid</th>\n",
       "      <td>-0.400865</td>\n",
       "    </tr>\n",
       "    <tr>\n",
       "      <th>chlorides</th>\n",
       "      <td>-2.684283</td>\n",
       "    </tr>\n",
       "    <tr>\n",
       "      <th>total sulfur dioxide</th>\n",
       "      <td>-0.001473</td>\n",
       "    </tr>\n",
       "    <tr>\n",
       "      <th>density</th>\n",
       "      <td>-23.748664</td>\n",
       "    </tr>\n",
       "    <tr>\n",
       "      <th>pH</th>\n",
       "      <td>-0.472842</td>\n",
       "    </tr>\n",
       "    <tr>\n",
       "      <th>sulphates</th>\n",
       "      <td>1.712367</td>\n",
       "    </tr>\n",
       "    <tr>\n",
       "      <th>alcohol</th>\n",
       "      <td>0.247527</td>\n",
       "    </tr>\n",
       "  </tbody>\n",
       "</table>\n",
       "</div>"
      ],
      "text/plain": [
       "                      Coeffecient\n",
       "fixed acidity            0.042297\n",
       "volatile acidity        -0.816828\n",
       "citric acid             -0.400865\n",
       "chlorides               -2.684283\n",
       "total sulfur dioxide    -0.001473\n",
       "density                -23.748664\n",
       "pH                      -0.472842\n",
       "sulphates                1.712367\n",
       "alcohol                  0.247527"
      ]
     },
     "execution_count": 46,
     "metadata": {},
     "output_type": "execute_result"
    }
   ],
   "source": [
    "coeffecients = pd.DataFrame(regressor.coef_,features)\n",
    "coeffecients.columns = ['Coeffecient']\n",
    "coeffecients\n",
    "#These numbers mean that holding all other features fixed, a 1 unit increase in suplhates will lead to an increase of 0.8 in Quality of wine, and similarly for the other features\n",
    "#These numbers mean that holding all other features fixed, a 1 unit increase in volatile acidity will lead to a decrease of 0.99 in Quality of wine, and similarly for the other features"
   ]
  },
  {
   "cell_type": "code",
   "execution_count": 47,
   "metadata": {},
   "outputs": [
    {
     "data": {
      "image/png": "[encoded data removed]",
      "text/plain": [
       "<Figure size 640x480 with 1 Axes>"
      ]
     },
     "metadata": {},
     "output_type": "display_data"
    }
   ],
   "source": [
    "import matplotlib.pyplot as plt1\n",
    "ax=plt1.axes()\n",
    "color1= 'green'\n",
    "color2= 'blue'\n",
    "ax.arrow(0,0,1,0.56,head_width=0.00,head_length=0,fc=color2,ec=color2)\n",
    "ax.arrow(0,0,2,0.63,head_width=0.00,head_length=0.05,fc=color1,ec=color1,linestyle='--')\n",
    "ax.set_ylim([0,0.8])\n",
    "ax.set_xlim([0,4])\n",
    "plt.grid()\n",
    "plt.title('RMSE_Score')\n",
    "\n",
    "plt1.show()"
   ]
  },
  {
   "cell_type": "code",
   "execution_count": 48,
   "metadata": {},
   "outputs": [
    {
     "data": {
      "image/png": "[encoded data removed]",
      "text/plain": [
       "<Figure size 640x480 with 1 Axes>"
      ]
     },
     "metadata": {},
     "output_type": "display_data"
    }
   ],
   "source": [
    "import matplotlib.pyplot as plt1\n",
    "ax=plt1.axes()\n",
    "color1= 'green'\n",
    "color2= 'blue'\n",
    "ax.arrow(0,0,2,0.40,head_width=0.00,head_length=0,fc=color2,ec=color2)\n",
    "ax.arrow(0,0,1,0.34,head_width=0.00,head_length=0.05,fc=color1,ec=color1,linestyle='--')\n",
    "ax.set_ylim([0,0.6])\n",
    "ax.set_xlim([0,3])\n",
    "plt.grid()\n",
    "plt.title('R2_Score')\n",
    "\n",
    "plt1.show()"
   ]
  },
  {
   "cell_type": "code",
   "execution_count": 49,
   "metadata": {},
   "outputs": [
    {
     "data": {
      "image/png": "[encoded data removed]",
      "text/plain": [
       "<Figure size 640x480 with 1 Axes>"
      ]
     },
     "metadata": {},
     "output_type": "display_data"
    }
   ],
   "source": [
    "import matplotlib.pyplot as plt1\n",
    "ax=plt1.axes()\n",
    "color1= 'green'\n",
    "color2= 'blue'\n",
    "ax.arrow(0,0,1,0.45,head_width=0.00,head_length=0,fc=color2,ec=color2)\n",
    "ax.arrow(0,0,2,0.49,head_width=0.00,head_length=0.05,fc=color1,ec=color1,linestyle='--')\n",
    "ax.set_ylim([0,0.6])\n",
    "ax.set_xlim([0,3])\n",
    "plt.grid()\n",
    "plt.title('MAE')\n",
    "\n",
    "plt1.show()"
   ]
  },
  {
   "cell_type": "code",
   "execution_count": null,
   "metadata": {},
   "outputs": [],
   "source": []
  },
  {
   "cell_type": "code",
   "execution_count": null,
   "metadata": {},
   "outputs": [],
   "source": []
  },
  {
   "cell_type": "code",
   "execution_count": null,
   "metadata": {},
   "outputs": [],
   "source": []
  }
 ],
 "metadata": {
  "kernelspec": {
   "display_name": "Python 3 (ipykernel)",
   "language": "python",
   "name": "python3"
  },
  "language_info": {
   "codemirror_mode": {
    "name": "ipython",
    "version": 3
   },
   "file_extension": ".py",
   "mimetype": "text/x-python",
   "name": "python",
   "nbconvert_exporter": "python",
   "pygments_lexer": "ipython3",
   "version": "3.9.0"
  }
 },
 "nbformat": 4,
 "nbformat_minor": 4
}
